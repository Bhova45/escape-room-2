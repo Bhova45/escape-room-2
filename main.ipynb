{
  "cells": [
    {
      "cell_type": "markdown",
      "metadata": {
        "colab_type": "text",
        "id": "view-in-github"
      },
      "source": [
        "<a href=\"https://colab.research.google.com/github/samia-boubaya/project-01-escape-room-game/blob/main/main.ipynb\" target=\"_parent\"><img src=\"https://colab.research.google.com/assets/colab-badge.svg\" alt=\"Open In Colab\"/></a>"
      ]
    },
    {
      "cell_type": "markdown",
      "metadata": {
        "id": "SHcf1oE4dt3m"
      },
      "source": [
        "---\n",
        "# **PROJECT 01: ESCAPE ROOM GAME**\n",
        "### IRONHACK DATA BOOTCAMP\n",
        "\n",
        "Welcome to escape room quest\n",
        "\n",
        "You wake up in a couch in a misteryous house with locked doors.\n",
        "Your mission: Find the keys, unlock each room, and escape to freedom!\n",
        "\n",
        "In this notebook we start by building the data structures that define the game world, which are: rooms, objects, keys and doors."
      ]
    },
    {
      "cell_type": "markdown",
      "metadata": {
        "id": "HFl1ApuXq9IF"
      },
      "source": [
        "**Definition of an escape room:**\n",
        "\n",
        "The briefing room of an escape room in Tampere, Finland\n",
        "Escape rooms are inspired by escape room video games, live-action role-playing, point-and-click adventure games, puzzle hunts, interactive theater, and haunted houses. They are also referred to as \"room escapes\", \"escape games\", \"exit games\", or \"live escapes\".\n"
      ]
    },
    {
      "cell_type": "markdown",
      "metadata": {
        "id": "AA28Jt74hskU"
      },
      "source": [
        "---\n",
        "\n",
        "## TEAM NOTES ⭐\n",
        "### TO ADD:\n",
        "*   Quiz the player when door is unlocked (comes after the unlock_door function)\n",
        "*   Tell the player how much time he has left to escape and win this game (print and library of time)\n",
        "*   Add how much it took the player to finish the game (important in the game_state)\n",
        "*   Add Live timer and show player their countdown timer (extra)\n",
        "\n",
        "*   Add list of game_doors to compare with current_space doors to show availabe doors for the player to after that choose which door to try unlock the door using keys from inventory.\n",
        "*   horror sounds to every room, and KA-CHING for unlocking door, and different winning sound when outside\n",
        "\n",
        "---\n",
        "\n",
        "### ERROR HANDLING:\n",
        "*   Capital letters input error when comparing with our data \n",
        "*   Capitalize first letter when printing using .title()\n",
        "*   No input and enter error\n",
        "\n",
        "\n",
        "\n",
        "\n"
      ]
    },
    {
      "cell_type": "markdown",
      "metadata": {},
      "source": [
        "--------\n",
        "\n",
        "## EXTRA FEATURE :  GAME TRIGGERS"
      ]
    },
    {
      "cell_type": "markdown",
      "metadata": {},
      "source": [
        "--------\n",
        "--------\n",
        "--------\n",
        "--------\n",
        "--------\n",
        "--------\n",
        "# NEW RODRIGO CODE\n",
        "\n",
        "## Fixed code, must use this to work in Mac and Windows\n"
      ]
    },
    {
      "cell_type": "code",
      "execution_count": null,
      "metadata": {},
      "outputs": [],
      "source": [
        "!pip install pillow\n",
        "!pip install playsound==1.2.2\n",
        "!pip install pyobjc"
      ]
    },
    {
      "cell_type": "markdown",
      "metadata": {},
      "source": [
        "## ALMOST FINAL RODRIGO SOUND+IMAGE"
      ]
    },
    {
      "cell_type": "code",
      "execution_count": null,
      "metadata": {},
      "outputs": [],
      "source": [
        "import os\n",
        "import time\n",
        "import threading\n",
        "import platform\n",
        "from PIL import Image\n",
        "from IPython.display import display, clear_output\n",
        "import requests\n",
        "import hashlib\n",
        "\n",
        "try:\n",
        "    from playsound import playsound\n",
        "except ImportError:\n",
        "    raise ImportError(\"Please install playsound with: pip install playsound==1.2.2\")\n",
        "\n",
        "# =============================================\n",
        "# ⚙️ CONFIGURATION\n",
        "# =============================================\n",
        "\n",
        "TRIGGERS = {\n",
        "    \"space sound\": {  # Ambient background loop\n",
        "        \"sound\": \"https://drive.google.com/uc?export=download&id=1TH3ssE0tVnfKySil0q55grCoiFpCxFO7\",\n",
        "        \"image\": None,\n",
        "        \"loop_minutes\": 20,  # 20-minute ambience\n",
        "        \"is_ambient\": True,  # special flag\n",
        "    },\n",
        "    \"examine\": {\n",
        "        \"sound\": \"https://drive.google.com/uc?export=download&id=1_FbFeK51rtIMWg9yQovpurNGHHWukYoD\",\n",
        "        \"image\": \"https://drive.google.com/uc?export=download&id=1igPXeO1Ro-UUL1tMQsMAQqOZE1kPundT\",\n",
        "    },\n",
        "    \"found key\": {\n",
        "        \"sound\": \"https://drive.google.com/uc?export=download&id=1MhGR7E9YXp7LrzKaSMlCGd211I18P6Iy\",\n",
        "        \"image\": \"https://drive.google.com/uc?export=download&id=1hcyiCkmmchsGZ2ERsx8PMdEN3kh--tO5\",\n",
        "    },\n",
        "    \"not found key\": {\n",
        "        \"sound\": \"https://drive.google.com/uc?export=download&id=17v52HWgz_jCHFITeCV1oyOOC4TV_gyzT\",\n",
        "        \"image\": None,\n",
        "    },\n",
        "    \"door locked\": {\n",
        "        \"sound\": \"https://drive.google.com/uc?export=download&id=1-BwRmk_3U6TRESsPja5s26ECB8GYcqOU\",\n",
        "        \"image\": \"https://drive.google.com/uc?export=download&id=1drL22OHO91OgjpT942g2nrmgRZcr0gYa\",\n",
        "    },\n",
        "    \"door unlocked\": {\n",
        "        \"sound\": \"https://drive.google.com/uc?export=download&id=16bhcdxVRzIRmNO0ztLaeQZYHBLPVlB8P\",\n",
        "        \"image\": \"https://drive.google.com/uc?export=download&id=1TXSjKZXC_K0c4gXrQlTY20u_X2aEVQ1_\",\n",
        "    },\n",
        "    \"footstep\": {\n",
        "        \"sound\": \"https://drive.google.com/uc?export=download&id=1mlkfF9RW6uhKMeBqixYZlo5w-dVJ_1Uo\",\n",
        "        \"image\": \"https://drive.google.com/uc?export=download&id=16snfruJnkMN8fkxL_fxDzwCaNhNdRroN\",\n",
        "    },\n",
        "    \"outside sound\": {\n",
        "        \"sound\": \"https://drive.google.com/uc?export=download&id=13vxJyjMuAz0hHfoaqLIrmOEbf5IN8BGW\",\n",
        "        \"image\": None,\n",
        "    },\n",
        "}\n",
        "\n",
        "CACHE_DIR = \"cache\"\n",
        "os.makedirs(CACHE_DIR, exist_ok=True)\n",
        "\n",
        "# =============================================\n",
        "# 🧠 UTILITIES\n",
        "# =============================================\n",
        "\n",
        "def download_file(url: str, name: str) -> str | None:\n",
        "    \"\"\"Download a file if not cached, return local path inside assets/images or assets/sounds.\"\"\"\n",
        "    # Determine subfolder based on file type\n",
        "    _, ext = os.path.splitext(name.lower())\n",
        "    if ext in [\".mp3\", \".wav\", \".ogg\"]:\n",
        "        subfolder = \"sounds\"\n",
        "    else:\n",
        "        subfolder = \"images\"\n",
        "\n",
        "    # Define asset folder structure (relative to current repo)\n",
        "    base_assets_dir = os.path.join(os.getcwd(), \"assets\")\n",
        "    target_dir = os.path.join(base_assets_dir, subfolder)\n",
        "    os.makedirs(target_dir, exist_ok=True)\n",
        "\n",
        "    # Create unique hashed filename\n",
        "    url_hash = hashlib.md5(url.encode()).hexdigest()[:8]\n",
        "    base, ext = os.path.splitext(name)\n",
        "    unique_name = f\"{base}_{url_hash}{ext}\"\n",
        "    local_path = os.path.join(target_dir, unique_name)\n",
        "\n",
        "    # Return cached version if it exists\n",
        "    if os.path.exists(local_path):\n",
        "        return local_path\n",
        "\n",
        "    print(f\"⬇️ Downloading {name} → {target_dir}/\")\n",
        "    try:\n",
        "        response = requests.get(url, timeout=15)\n",
        "        response.raise_for_status()\n",
        "        with open(local_path, \"wb\") as f:\n",
        "            f.write(response.content)\n",
        "        return local_path\n",
        "    except Exception as e:\n",
        "        print(f\"⚠️ Download error: {e}\")\n",
        "        return None\n",
        "\n",
        "\n",
        "# =============================================\n",
        "# 🔊 SOUND PLAYER\n",
        "# =============================================\n",
        "\n",
        "_event_lock = threading.Lock()  # ensures only one event sound at a time\n",
        "\n",
        "def play_sound(url: str, trigger_name: str, loop_duration: int = None, ambient=False):\n",
        "    \"\"\"Play a sound (ambient loops separately, event sounds locked).\"\"\"\n",
        "    local_file = download_file(url, f\"{trigger_name}.mp3\")\n",
        "    if not local_file:\n",
        "        return\n",
        "\n",
        "    def _play():\n",
        "        try:\n",
        "            start = time.time()\n",
        "            while True:\n",
        "                # Only lock non-ambient sounds so they don’t overlap\n",
        "                if not ambient:\n",
        "                    with _event_lock:\n",
        "                        _play_once(local_file)\n",
        "                else:\n",
        "                    _play_once(local_file)\n",
        "\n",
        "                if not loop_duration or (time.time() - start > loop_duration):\n",
        "                    break\n",
        "        except Exception as e:\n",
        "            print(f\"⚠️ Sound error: {e}\")\n",
        "\n",
        "    threading.Thread(target=_play, daemon=True).start()\n",
        "\n",
        "\n",
        "def _play_once(path):\n",
        "    \"\"\"Play one file once, platform-safe.\"\"\"\n",
        "    if platform.system() == \"Darwin\":\n",
        "        os.system(f\"afplay '{path}' >/dev/null 2>&1\")\n",
        "    elif platform.system() == \"Linux\":\n",
        "        os.system(f\"mpg123 '{path}' >/dev/null 2>&1\")\n",
        "    else:\n",
        "        playsound(path, block=True)\n",
        "\n",
        "# =============================================\n",
        "# 🖼️ IMAGE DISPLAY (INLINE)\n",
        "# =============================================\n",
        "\n",
        "def show_image_inline(url: str, display_time: int = 5000):\n",
        "    if not url:\n",
        "        return\n",
        "    try:\n",
        "        local_file = download_file(url, \"image.gif\")\n",
        "        if not local_file:\n",
        "            return\n",
        "        img = Image.open(local_file)\n",
        "        img = img.resize((400, 300), Image.Resampling.LANCZOS)\n",
        "        display(img)\n",
        "\n",
        "        def safe_clear():\n",
        "            try:\n",
        "                clear_output(wait=True)\n",
        "            except LookupError:\n",
        "                pass\n",
        "        threading.Timer(display_time / 1000, safe_clear).start()\n",
        "\n",
        "    except Exception as e:\n",
        "        print(f\"Image error: {e}\")\n",
        "\n",
        "# =============================================\n",
        "# 🚀 MAIN TRIGGER FUNCTION\n",
        "# =============================================\n",
        "\n",
        "def trigger_event(trigger_name: str, display_time: int = 5000):\n",
        "    trigger_name = trigger_name.lower().strip()\n",
        "    data = TRIGGERS.get(trigger_name)\n",
        "    if not data:\n",
        "        print(f\"⚠️ Unknown trigger: {trigger_name}\")\n",
        "        return\n",
        "\n",
        "    loop_duration = None\n",
        "    ambient = data.get(\"is_ambient\", False)\n",
        "    if data.get(\"loop_minutes\"):\n",
        "        loop_duration = data[\"loop_minutes\"] * 60\n",
        "\n",
        "    # 🎧 play sound\n",
        "    if data.get(\"sound\"):\n",
        "        play_sound(data[\"sound\"], trigger_name, loop_duration, ambient)\n",
        "\n",
        "    # 🖼️ show image\n",
        "    if data.get(\"image\"):\n",
        "        show_image_inline(data[\"image\"], display_time)\n"
      ]
    },
    {
      "cell_type": "code",
      "execution_count": null,
      "metadata": {},
      "outputs": [],
      "source": [
        "# TEST CALL TRIGGER EVENT\n",
        "\n",
        "# explore 5min per room\n",
        "trigger_event(\"space sound\") #explore 5min\n",
        "\n",
        "# examine 5sec\n",
        "trigger_event(\"examine\") # examine\n",
        "trigger_event(\"not found key\") # not found key in examined item\n",
        "trigger_event(\"found key\") # found key in examined item\n",
        "\n",
        "# unlock door 5sec\n",
        "trigger_event(\"door locked\") # trying to unlock a door that we don't have the key in inventory for\n",
        "trigger_event(\"quiz\") # we have a quiz to be able to unlock \n",
        "trigger_event(\"door unlocked\") # we have key in inventory and we answered the quiz correctly\n",
        "\n",
        "# navigate 5sec\n",
        "trigger_event(\"footstep\")\n",
        "\n",
        "# win 5sec\n",
        "trigger_event(\"outside sound\")"
      ]
    },
    {
      "cell_type": "markdown",
      "metadata": {
        "id": "fbr1D6bxhNBl"
      },
      "source": [
        "------\n",
        "## FINAL GAME PRODUCT"
      ]
    },
    {
      "cell_type": "markdown",
      "metadata": {},
      "source": [
        "### DICT : GAME AREAS"
      ]
    },
    {
      "cell_type": "code",
      "execution_count": null,
      "metadata": {},
      "outputs": [],
      "source": [
        "# Each key in this dictionary represents a room; each value is a list of objects, doors and keys\n",
        "\n",
        "# Dictionary : GAME AREAS\n",
        "game_areas = {\n",
        "    \"game room\" : ['couch', 'piano', 'door A', 'key door A'],\n",
        "    \"bedroom 1\": ['queen bed', 'door A', 'door B', 'door C', 'key door B'],\n",
        "    \"bedroom 2\": ['double bed', 'door B', 'dresser', 'key door D', 'key door C'],\n",
        "    \"living room\": [\"dining table\", 'door C', 'door D'],\n",
        "    \"outside\": [\"freedom\"]\n",
        "}\n",
        "\n",
        "# List : dictionary Keys\n",
        "spaces = game_areas.keys()\n",
        "print(\"GAME AREAS Dictionary:\")\n",
        "print(\"Dictionary Keys:\\n\",spaces,\"\\n\")\n",
        "\n",
        "# Print dictionary organised\n",
        "print(\"Dictionary:\\n{   key   :   value     }\")\n",
        "for i in spaces:\n",
        "  print(i,\":\",game_areas[i])"
      ]
    },
    {
      "cell_type": "markdown",
      "metadata": {},
      "source": [
        "### LISTS:"
      ]
    },
    {
      "cell_type": "code",
      "execution_count": 22,
      "metadata": {},
      "outputs": [
        {
          "name": "stdout",
          "output_type": "stream",
          "text": [
            "Player's actions in the game : ['explore', 'examine', 'unlock door', 'navigate', 'restart', 'quit', 'play']\n",
            "\n",
            "Spaces in the game : ['game room', 'bedroom 1', 'bedroom 2', 'living room', 'outside']\n",
            "\n",
            "Items in the game : ['couch', 'piano', 'queen bed', 'double bed', 'dresser', 'dining table']\n",
            "\n",
            "Doors in the game : ['door A', 'door B', 'door C', 'door D']\n",
            "\n",
            "Keys in the game : ['key door A', 'key door B', 'key door C', 'key door D']\n"
          ]
        }
      ],
      "source": [
        "# LIST : actions available to a player\n",
        "actions = ['explore', 'examine', 'unlock door', 'navigate', 'restart', 'quit','play']\n",
        "print(\"Player's actions in the game :\",actions)\n",
        "\n",
        "# LIST : spaces\n",
        "spaces = ['game room', 'bedroom 1', 'bedroom 2', 'living room','outside']\n",
        "print(\"\\nSpaces in the game :\",spaces)\n",
        "\n",
        "# LIST : items\n",
        "items = ['couch', 'piano', 'queen bed', 'double bed', 'dresser', \"dining table\"]\n",
        "print(\"\\nItems in the game :\",items)\n",
        "\n",
        "# LIST : doors\n",
        "doors = ['door A', 'door B', 'door C', 'door D']\n",
        "print(\"\\nDoors in the game :\",doors)\n",
        "\n",
        "# LIST : keys\n",
        "keys = ['key door A', 'key door B', 'key door C', 'key door D']\n",
        "print(\"\\nKeys in the game :\",keys)"
      ]
    },
    {
      "cell_type": "markdown",
      "metadata": {},
      "source": [
        "### DICT : GAME STATE"
      ]
    },
    {
      "cell_type": "code",
      "execution_count": null,
      "metadata": {},
      "outputs": [],
      "source": []
    },
    {
      "cell_type": "markdown",
      "metadata": {},
      "source": [
        "### Import UTILS"
      ]
    },
    {
      "cell_type": "code",
      "execution_count": 20,
      "metadata": {},
      "outputs": [
        {
          "name": "stdout",
          "output_type": "stream",
          "text": [
            "Player is navigating to a new space!\n",
            "utils.py reloaded ✅\n"
          ]
        }
      ],
      "source": [
        "import sys\n",
        "# import utils.py to call functions \n",
        "from importlib import reload\n",
        "import utils\n",
        "reload(utils)\n",
        "print(\"utils.py reloaded ✅\")"
      ]
    },
    {
      "cell_type": "markdown",
      "metadata": {},
      "source": [
        "### How to use UTILS"
      ]
    },
    {
      "cell_type": "code",
      "execution_count": null,
      "metadata": {},
      "outputs": [],
      "source": [
        "from importlib import reload\n",
        "import utils\n",
        "\n",
        "# Reload the module (in case you changed it)\n",
        "reload(utils)\n",
        "\n",
        "# Example inputs\n",
        "function_name = \"my_function\"\n",
        "function_args = (1, 2, 3)                # positional arguments\n",
        "function_kwargs = {\"x\": 10, \"y\": 20}     # keyword arguments\n",
        "\n",
        "# Get the function object from the module\n",
        "func = getattr(utils, function_name)\n",
        "\n",
        "# Call it with args and kwargs\n",
        "result = func(*function_args, **function_kwargs)\n",
        "\n",
        "print(result)"
      ]
    },
    {
      "cell_type": "markdown",
      "metadata": {},
      "source": [
        "### SHOW AVAILABLE ACTIONS + PLAYER INPUT"
      ]
    },
    {
      "cell_type": "code",
      "execution_count": 23,
      "metadata": {},
      "outputs": [
        {
          "name": "stdout",
          "output_type": "stream",
          "text": [
            "\n",
            "The list of actions: ['explore', 'examine', 'unlock door', 'navigate', 'restart', 'quit', 'play']\n"
          ]
        }
      ],
      "source": [
        "print(\"\\nThe list of actions:\",actions) # Print the list of actions"
      ]
    },
    {
      "cell_type": "markdown",
      "metadata": {},
      "source": [
        "---\n",
        "## GAME DATA (DICT & LIST)"
      ]
    },
    {
      "cell_type": "markdown",
      "metadata": {},
      "source": [
        "---\n",
        "#### SABINA COMMENTS\n",
        "```\n",
        "I see you don't have the code from the loop here. I would say to add that in so you can test the changes you do to the functions every time you make a change. At the moment it looks like you're focusing on all the different elements but don't have the full picture.\n",
        "\n",
        "**So please try to make a working loop (either the one in the sample_code or one that you create with your own actions) as your next step before you work on any more details! The MVP (Minimum Viable Product) needs to come first!**\n",
        "\n",
        "SABINA COMMENT: You can do `return action` instead of `break`. `return` automatically stops the function so because the while loop is INSIDE the function, then it will stop as well once the action is returned.\n",
        "\n",
        "SABINA COMMENT: This value is hard-coded, so this function\n",
        "will only work for opening door A and it will cause you issues down the line...\n",
        "\n",
        "SABINA COMMENT: This would technically be a ValueError, not TypingError. Typing error is when you input a float instead of a string\n",
        "but Value error is when you put \"get me out of the game\" instead of \"quit\"\n",
        "```"
      ]
    },
    {
      "cell_type": "markdown",
      "metadata": {},
      "source": [
        "---\n",
        "## GAME INTRODUCTION"
      ]
    },
    {
      "cell_type": "code",
      "execution_count": 30,
      "metadata": {},
      "outputs": [
        {
          "name": "stdout",
          "output_type": "stream",
          "text": [
            "\n",
            "************************************************************\n",
            "*****         WELCOME TO THE ESCAPE ROOM GAME!         *****\n",
            "*****               Made by POSH SPICE                 *****\n",
            "************************************************************\n",
            "\n",
            "You wake up on a couch and find yourself in a strange house with no windows which you have never been to before.\n",
            "You don't remember why you are here and what had happened before. \n",
            "You feel some unknown danger is approaching and you must get out of the house, NOW!\n",
            "          \n"
          ]
        }
      ],
      "source": [
        "# Big \"Time's Up\" banner\n",
        "print(\"\\n\" + \"*\"*60)\n",
        "print(\"*****         WELCOME TO THE ESCAPE ROOM GAME!         *****\")\n",
        "print(\"*****               Made by POSH SPICE                 *****\")\n",
        "print(\"*\"*60)\n",
        "\n",
        "# Start the game by printing storyline message and initial game state\n",
        "print('''\n",
        "You wake up on a couch and find yourself in a strange house with no windows which you have never been to before.\n",
        "You don't remember why you are here and what had happened before. \n",
        "You feel some unknown danger is approaching and you must get out of the house, NOW!\n",
        "          ''')"
      ]
    },
    {
      "cell_type": "markdown",
      "metadata": {},
      "source": [
        "## GAME SCENARIO START "
      ]
    },
    {
      "cell_type": "code",
      "execution_count": 39,
      "metadata": {},
      "outputs": [
        {
          "name": "stdout",
          "output_type": "stream",
          "text": [
            "Player is navigating to a new space!\n"
          ]
        },
        {
          "ename": "KeyError",
          "evalue": "'space path'",
          "output_type": "error",
          "traceback": [
            "\u001b[1;31m---------------------------------------------------------------------------\u001b[0m",
            "\u001b[1;31mKeyError\u001b[0m                                  Traceback (most recent call last)",
            "Cell \u001b[1;32mIn[39], line 9\u001b[0m\n\u001b[0;32m      6\u001b[0m start_space \u001b[38;5;241m=\u001b[39m \u001b[38;5;124m'\u001b[39m\u001b[38;5;124mgame room\u001b[39m\u001b[38;5;124m'\u001b[39m\n\u001b[0;32m      8\u001b[0m \u001b[38;5;66;03m# use getattr to call a function from utils\u001b[39;00m\n\u001b[1;32m----> 9\u001b[0m \u001b[38;5;28mgetattr\u001b[39m(utils, \u001b[38;5;124m'\u001b[39m\u001b[38;5;124mupdate_space_path\u001b[39m\u001b[38;5;124m'\u001b[39m)(start_space)\n",
            "File \u001b[1;32mc:\\Users\\sboub\\Documents\\GitHub\\escape-room-2\\utils.py:378\u001b[0m, in \u001b[0;36mupdate_space_path\u001b[1;34m(current_space)\u001b[0m\n\u001b[0;32m    377\u001b[0m \u001b[38;5;28;01mdef\u001b[39;00m\u001b[38;5;250m \u001b[39m\u001b[38;5;21mupdate_space_path\u001b[39m(current_space:\u001b[38;5;28mstr\u001b[39m):\n\u001b[1;32m--> 378\u001b[0m     game_paths[\u001b[38;5;124m'\u001b[39m\u001b[38;5;124mspace path\u001b[39m\u001b[38;5;124m'\u001b[39m]\u001b[38;5;241m.\u001b[39mappend(current_space)\n",
            "\u001b[1;31mKeyError\u001b[0m: 'space path'"
          ]
        }
      ],
      "source": [
        "from importlib import reload\n",
        "import utils\n",
        "reload(utils)\n",
        "\n",
        "#initialize start_space = 'game room'\n",
        "start_space = 'game room'\n",
        "\n",
        "# use getattr to call a function from utils\n",
        "getattr(utils, 'update_space_path')(start_space)\n"
      ]
    },
    {
      "cell_type": "code",
      "execution_count": null,
      "metadata": {},
      "outputs": [],
      "source": [
        "from importlib import reload\n",
        "import utils\n",
        "reload(utils)\n",
        "\n",
        "#initialize start_space = 'game room'\n",
        "start_space = 'game room'\n",
        "\n",
        "# call function player_action(player_input='play')\n",
        "getattr(utils,'player_action')('play')\n",
        "\n",
        "\n",
        "# use getattr to call a function from utils\n",
        "getattr(utils, 'update_path')(start_space)\n"
      ]
    },
    {
      "cell_type": "code",
      "execution_count": null,
      "metadata": {},
      "outputs": [],
      "source": [
        "# define function start_game()\n",
        "def start_game():\n",
        "    \"\"\"\n",
        "    Start the game\n",
        "    \"\"\"\n",
        "    print(\"You wake up on a couch and find yourself in a strange house with no windows which you have never been to before. You don't remember why you are here and what had happened before. You feel some unknown danger is approaching and you must get out of the house, NOW!\")\n",
        "    play_room(game_state[\"current_space\"])"
      ]
    },
    {
      "cell_type": "code",
      "execution_count": null,
      "metadata": {},
      "outputs": [],
      "source": [
        "# define function linebreak()\n",
        "def linebreak():\n",
        "    \"\"\"\n",
        "    Print a line break\n",
        "    \"\"\"\n",
        "    print(\"\\n\\n\")"
      ]
    },
    {
      "cell_type": "markdown",
      "metadata": {},
      "source": [
        "----\n",
        "----\n",
        "----\n",
        "----\n",
        "\n",
        "# EXTRA FEATURES"
      ]
    },
    {
      "cell_type": "markdown",
      "metadata": {},
      "source": [
        "-----\n",
        "## REYNOLD WORK"
      ]
    },
    {
      "cell_type": "code",
      "execution_count": null,
      "metadata": {},
      "outputs": [],
      "source": [
        "# Keep track of the player : current space; current item to examine; and inventory of keys\n",
        "\n",
        "# Dictionary : GAME STATE\n",
        "game_state = {\n",
        "    'space_path' : [], # player current space to navigate and make a space path\n",
        "    'item_path' : [], # to select an item to examine for key; and make an item path\n",
        "    'inventory': [], # to store found keys\n",
        "    'time': \"display_clock_countdown\" , #library time for live timer and countdown\n",
        "    'health': 100,\n",
        "}"
      ]
    },
    {
      "cell_type": "code",
      "execution_count": null,
      "metadata": {},
      "outputs": [],
      "source": [
        "\n",
        "# Check the updated dictionary\n",
        "print(game_state)"
      ]
    },
    {
      "cell_type": "code",
      "execution_count": null,
      "metadata": {},
      "outputs": [],
      "source": [
        "import time\n",
        "\n",
        "# Initialize game state with player health\n",
        "game_state = {\n",
        "    'time': [\"display_clock_countdown\"],\n",
        "    'space path': [],\n",
        "    'item path': [],\n",
        "    'inventory': [],\n",
        "    'player_health': 100.0,  # Using float for percentage calculations\n",
        "    'start_time': None,\n",
        "    'next_deduction_time': 300  # Deduction starts after 5 minutes\n",
        "}\n",
        "\n",
        "def start_game():\n",
        "    \"\"\"Start the game's timer.\"\"\"\n",
        "    game_state['start_time'] = time.time()\n",
        "    print(\"Game started! Timer is running.\")\n",
        "\n",
        "def update_player_health():\n",
        "    \"\"\"Update player health based on elapsed time.\"\"\"\n",
        "    if game_state['start_time'] is not None:\n",
        "        elapsed_time = time.time() - game_state['start_time']\n",
        "\n",
        "        # Perform deduction only if elapsed time is beyond next scheduled deduction time\n",
        "        if elapsed_time >= game_state['next_deduction_time']:\n",
        "            # Reduce health by 25 points\n",
        "            game_state['player_health'] -= 25\n",
        "            print(f\"Health decreased by 15%! New health: {game_state['player_health']:.2f}\")\n",
        "\n",
        "            # Update the next deduction time for 2 minutes later\n",
        "            game_state['next_deduction_time'] += 120\n",
        "\n",
        "def game_loop():\n",
        "    \"\"\"Main game loop.\"\"\"\n",
        "    start_game()\n",
        "    while game_state['player_health'] > 0:\n",
        "        current_time = time.time()\n",
        "        # Calculate the time left until the next deduction\n",
        "        time_until_next_deduction = game_state['next_deduction_time'] - (current_time - game_state['start_time'])\n",
        "\n",
        "        # Determine sleep time, making sure not to go negative\n",
        "        sleep_time = max(0, time_until_next_deduction)\n",
        "\n",
        "        # Sleep until the next deduction is expected\n",
        "        if sleep_time > 0:\n",
        "            time.sleep(sleep_time)\n",
        "\n",
        "        # Update player health based on time\n",
        "        update_player_health()\n",
        "\n",
        "        # Provide feedback on current status\n",
        "        print(f\"Current player health: {game_state['player_health']:.2f}\")\n",
        "        if game_state['player_health'] <= 0:\n",
        "            print(\"Game Over!\")\n",
        "\n",
        "# Start the game loop\n",
        "if __name__ == \"__main__\":\n",
        "    game_loop()"
      ]
    },
    {
      "cell_type": "markdown",
      "metadata": {},
      "source": [
        "-----\n",
        "## PAULINA: The Take a break"
      ]
    },
    {
      "cell_type": "markdown",
      "metadata": {},
      "source": [
        "DEFINIG THE FUNCTION take_a_break()\n",
        "\n",
        "**Step 1: The idea**\n",
        "\n",
        "- When the player starts the game, we note the start time.\n",
        "- Every second, we check how long the player has been playing.\n",
        "- If it’s less than 40 minutes, keep playing.\n",
        "- If it’s 40 minutes or more, stop the game and show this message:\n",
        "\n",
        "TAKE A BREAK FOR MENTAL HEALTH: Breathe in, breathe out. Take some food, drink a cup of water & rest. Come back later.\n",
        "\n",
        "- Then we wait 30 minutes before letting them play again"
      ]
    },
    {
      "cell_type": "markdown",
      "metadata": {},
      "source": [
        "**Step 2: define what variables we need**"
      ]
    },
    {
      "cell_type": "code",
      "execution_count": null,
      "metadata": {},
      "outputs": [],
      "source": [
        "from datetime import datetime, timedelta # timedelta means difference between two times\n",
        "\n",
        "start_time = datetime.now()       # when the session started\n",
        "break_until = None                # time when the break ends\n"
      ]
    },
    {
      "cell_type": "markdown",
      "metadata": {},
      "source": [
        "**Step 3: The function**"
      ]
    },
    {
      "cell_type": "code",
      "execution_count": null,
      "metadata": {},
      "outputs": [],
      "source": [
        "from datetime import datetime, timedelta # timedelta means difference between two times\n",
        "import time\n",
        "\n",
        "def take_a_break():\n",
        "    global start_time, break_until\n",
        "\n",
        "    now = datetime.now()\n",
        "\n",
        "    # 1. If we are already in a break\n",
        "    if break_until is not None:\n",
        "        if now < break_until:\n",
        "            remaining = break_until - now\n",
        "            mins = int(remaining.total_seconds() // 60)\n",
        "            secs = int(remaining.total_seconds() % 60)\n",
        "            print(f\"\\n Still on break! Please wait {mins:02}:{secs:02} minutes.\")\n",
        "            return False\n",
        "        else:\n",
        "            # Break finished, reset timer\n",
        "            print(\"\\n Break finished! You can play again.\\n\")\n",
        "            start_time = datetime.now()\n",
        "            break_until = None\n",
        "            return True\n",
        "\n",
        "    # 2. If no break is active, check play time\n",
        "    minutes_played = now - start_time\n",
        "    if minutes_played >= timedelta(minutes=40):\n",
        "        # Start break\n",
        "        break_until = now + timedelta(minutes=1)\n",
        "        print(\"\"\"\n",
        "========================================================\n",
        "TAKE A BREAK FOR MENTAL HEALTH:\n",
        "Breathe in, breathe out. Take some food, drink a cup of water & rest.\n",
        "Come back later.\n",
        "========================================================\n",
        "\"\"\")\n",
        "        return False\n",
        "    else:\n",
        "        return True\n",
        "\n",
        "\n"
      ]
    },
    {
      "cell_type": "code",
      "execution_count": null,
      "metadata": {},
      "outputs": [],
      "source": [
        "from datetime import datetime, timedelta # timedelta means difference between two times\n",
        "import time\n",
        "\n",
        "# === GLOBAL VARIABLES ===\n",
        "start_time = datetime.now()\n",
        "break_until = None\n",
        "\n",
        "def take_a_break():\n",
        "    \"\"\"Check if it's time for a break or if the player can keep playing.\"\"\"\n",
        "    global start_time, break_until\n",
        "\n",
        "    now = datetime.now()\n",
        "\n",
        "    # 1) If we are already in a break\n",
        "    if break_until is not None:\n",
        "        if now < break_until:\n",
        "            remaining = break_until - now\n",
        "            mins = int(remaining.total_seconds() // 60)\n",
        "            secs = int(remaining.total_seconds() % 60)\n",
        "            print(f\"\\nStill on break! Please wait {mins:02}:{secs:02} minutes.\")\n",
        "            return False\n",
        "        else:\n",
        "            # Break finished\n",
        "            print(\"\\nBreak finished! You can play again.\\n\")\n",
        "            start_time = datetime.now()\n",
        "            break_until = None\n",
        "            return True\n",
        "\n",
        "    # 2) If no break is active, check play time\n",
        "    time_played = now - start_time\n",
        "\n",
        "    # Change 'minutes' to 'seconds' for quick testing\n",
        "    if time_played >= timedelta(minutes=40):\n",
        "        break_until = now + timedelta(minutes=1)\n",
        "        print(\"\"\"\n",
        "========================================================\n",
        "TAKE A BREAK FOR MENTAL HEALTH:\n",
        "Breathe in, breathe out. Take some food, drink a cup of water & rest.\n",
        "Come back later.\n",
        "========================================================\n",
        "\"\"\")\n",
        "        return False\n",
        "    else:\n",
        "        return True\n",
        "\n",
        "\n",
        "# Hier ist a demo loop to show how take_a_break() works\n",
        "if __name__ == \"__main__\":\n",
        "    print(\"Demo started. Press Ctrl + C to stop.\\n\")\n",
        "\n",
        "    try:\n",
        "        while True:\n",
        "            allowed = take_a_break()\n",
        "            if allowed:\n",
        "                print(\"Playing...\")\n",
        "            time.sleep(1)  # one tick per second\n",
        "    except KeyboardInterrupt:\n",
        "        print(\"\\nStopped by user. Exiting cleanly.\\n\")\n"
      ]
    }
  ],
  "metadata": {
    "colab": {
      "include_colab_link": true,
      "provenance": []
    },
    "kernelspec": {
      "display_name": "base",
      "language": "python",
      "name": "python3"
    },
    "language_info": {
      "codemirror_mode": {
        "name": "ipython",
        "version": 3
      },
      "file_extension": ".py",
      "mimetype": "text/x-python",
      "name": "python",
      "nbconvert_exporter": "python",
      "pygments_lexer": "ipython3",
      "version": "3.13.5"
    }
  },
  "nbformat": 4,
  "nbformat_minor": 0
}
