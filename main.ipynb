{
  "cells": [
    {
      "cell_type": "markdown",
      "metadata": {
        "colab_type": "text",
        "id": "view-in-github"
      },
      "source": [
        "<a href=\"https://colab.research.google.com/github/samia-boubaya/project-01-escape-room-game/blob/main/main.ipynb\" target=\"_parent\"><img src=\"https://colab.research.google.com/assets/colab-badge.svg\" alt=\"Open In Colab\"/></a>"
      ]
    },
    {
      "cell_type": "markdown",
      "metadata": {
        "id": "SHcf1oE4dt3m"
      },
      "source": [
        "---\n",
        "# **PROJECT 01: ESCAPE ROOM GAME**\n",
        "### IRONHACK DATA BOOTCAMP\n",
        "\n",
        "Welcome to escape room quest\n",
        "\n",
        "You wake up in a couch in a misteryous house with locked doors.\n",
        "Your mission: Find the keys, unlock each room, and escape to freedom!\n",
        "\n",
        "In this notebook we start by building the data structures that define the game world, which are: rooms, objects, keys and doors."
      ]
    },
    {
      "cell_type": "markdown",
      "metadata": {
        "id": "HFl1ApuXq9IF"
      },
      "source": [
        "**Definition of an escape room:**\n",
        "\n",
        "The briefing room of an escape room in Tampere, Finland\n",
        "Escape rooms are inspired by escape room video games, live-action role-playing, point-and-click adventure games, puzzle hunts, interactive theater, and haunted houses. They are also referred to as \"room escapes\", \"escape games\", \"exit games\", or \"live escapes\".\n"
      ]
    },
    {
      "cell_type": "markdown",
      "metadata": {
        "id": "AA28Jt74hskU"
      },
      "source": [
        "---\n",
        "\n",
        "## TEAM NOTES ⭐\n",
        "### TO ADD:\n",
        "*   Quiz the player when door is unlocked (comes after the unlock_door function)\n",
        "*   Tell the player how much time he has left to escape and win this game (print and library of time)\n",
        "*   Add how much it took the player to finish the game (important in the game_state)\n",
        "*   Add Live timer and show player their countdown timer (extra)\n",
        "\n",
        "*   Add list of game_doors to compare with current_space doors to show availabe doors for the player to after that choose which door to try unlock the door using keys from inventory.\n",
        "*   horror sounds to every room, and KA-CHING for unlocking door, and different winning sound when outside\n",
        "\n",
        "---\n",
        "\n",
        "### ERROR HANDLING:\n",
        "*   Capital letters input error when comparing with our data \n",
        "*   Capitalize first letter when printing using .title()\n",
        "*   No input and enter error\n",
        "\n",
        "\n",
        "\n",
        "\n"
      ]
    },
    {
      "cell_type": "markdown",
      "metadata": {},
      "source": [
        "--------\n",
        "\n",
        "# GAME TRIGGERS (EXTRA FEATURE): "
      ]
    },
    {
      "cell_type": "markdown",
      "metadata": {},
      "source": [
        "## PLAY IN BACKGROUND FOR 5 MINUTES"
      ]
    },
    {
      "cell_type": "code",
      "execution_count": null,
      "metadata": {},
      "outputs": [],
      "source": [
        "import requests\n",
        "from playsound import playsound\n",
        "import threading\n",
        "import time\n",
        "\n",
        "# 🎵 Game sound triggers\n",
        "game_triggers = {\n",
        "    'space': \"https://drive.google.com/uc?export=download&id=1jhDDigPt00xLUvex7Z9O5r1xmOzsYxkB\",\n",
        "    'door locked': \"https://drive.google.com/uc?export=download&id=1kKXJ3bYl5F2vQX1Z3Yz5G7H8J9L0M2N3\",\n",
        "    'door unlocked': \"https://drive.google.com/uc?export=download&id=16bhcdxVRzIRmNO0ztLaeQZYHBLPVlB8P\",\n",
        "    'footstep': \"https://drive.google.com/uc?export=download&id=1aB2cD3eF4gH5iJ6kL7mN8oP9qR0sT1U\",\n",
        "    'action': \"https://drive.google.com/uc?export=download&id=1V2wX3yZ4aB5cD6eF7gH8iJ9kL0mN1O2P\"\n",
        "}\n",
        "\n",
        "# 🔊 Function to play a sound in a loop for 5 minutes in the background\n",
        "def play_background_sound(trigger):\n",
        "    url = game_triggers[trigger]\n",
        "    # download the audio file\n",
        "    r = requests.get(url, allow_redirects=True)\n",
        "    with open('bg_sound.mp3', 'wb') as f:\n",
        "        f.write(r.content)\n",
        "\n",
        "    # function to loop the sound\n",
        "    def loop_sound():\n",
        "        start = time.time()\n",
        "        while time.time() - start < 300:  # 300 seconds = 5 minutes\n",
        "            playsound('bg_sound.mp3', block=True)\n",
        "\n",
        "    # start background thread so it doesn’t block the game\n",
        "    threading.Thread(target=loop_sound, daemon=True).start()\n",
        "\n",
        "# 🎮 Main trigger function\n",
        "def play_sound(trigger):\n",
        "    trigger = trigger.lower().strip()\n",
        "    if trigger == 'space':\n",
        "        print(\"Exploring... space background music playing 🔎\")\n",
        "        play_background_sound(trigger)\n",
        "    elif trigger == 'door locked':\n",
        "        print(\"Unlocking... door locked sound playing 🔒\")  # only when quiz correct answer\n",
        "        play_background_sound(trigger)\n",
        "    elif trigger == 'door unlocked':\n",
        "        print(\"Unlocking... door unlocked sound playing 🔓\")  # only when quiz correct answer\n",
        "        play_background_sound(trigger)\n",
        "    elif trigger == 'footstep':\n",
        "        print(\"Navigating... footstep sound playing 👣\")\n",
        "        play_background_sound(trigger)\n",
        "    elif trigger == 'examine item':\n",
        "        print(\"Examining... item sound playing 🕵️‍♀️\")\n",
        "        play_background_sound(trigger)\n",
        "    else:\n",
        "        print(\"No sound defined for this trigger.\")\n",
        "    # play the sound in background for 5 minutes\n",
        "    \n",
        "\n",
        "# --- Example usage ---\n",
        "play_sound('door unlocked')\n"
      ]
    },
    {
      "cell_type": "markdown",
      "metadata": {},
      "source": [
        "\n",
        "## DISPLAY IMAGE in a terminal like window\n",
        "\n",
        "We need to display in a terminal like window :\n",
        "\n",
        "Choose your action from this list\n",
        "\n",
        "input \n",
        "output"
      ]
    },
    {
      "cell_type": "markdown",
      "metadata": {},
      "source": [
        "### CHECK URL DOWNLOADABLE"
      ]
    },
    {
      "cell_type": "code",
      "execution_count": null,
      "metadata": {},
      "outputs": [],
      "source": [
        "# check url if they are downloadable\n",
        "import requests\n",
        "\n",
        "urls = [\n",
        "    \"https://drive.google.com/uc?export=download&id=16bhcdxVRzIRmNO0ztLaeQZYHBLPVlB8P\",\n",
        "    \"https://drive.google.com/uc?export=download&id=1_NsFQxkNlO9O11OaqhK6QxY1NhhxbI-o\",\n",
        "    \"https://drive.google.com/uc?export=download&id=1-BwRmk_3U6TRESsPja5s26ECB8GYcqOU\",\n",
        "    \"https://drive.google.com/uc?export=download&id=1drL22OHO91OgjpT942g2nrmgRZcr0gYa\",\n",
        "    \"https://drive.google.com/uc?export=download&id=1mlkfF9RW6uhKMeBqixYZlo5w-dVJ_1Uo\",\n",
        "    \"https://drive.google.com/uc?export=download&id=16snfruJnkMN8fkxL_fxDzwCaNhNdRroN\",\n",
        "]\n",
        "\n",
        "for url in urls:\n",
        "    try:\n",
        "        r = requests.get(url, stream=True, timeout=10)\n",
        "        print(f\"{url} → {r.status_code} ({r.headers.get('Content-Type')})\")\n",
        "    except Exception as e:\n",
        "        print(f\"{url} → Error: {e}\")\n"
      ]
    },
    {
      "cell_type": "markdown",
      "metadata": {},
      "source": [
        "### INSTALL"
      ]
    },
    {
      "cell_type": "code",
      "execution_count": null,
      "metadata": {},
      "outputs": [],
      "source": [
        "!pip install pillow\n",
        "!pip install playsound==1.2.2\n",
        "!pip install pyobjc"
      ]
    },
    {
      "cell_type": "markdown",
      "metadata": {},
      "source": [
        "### IMPORT & DICT"
      ]
    },
    {
      "cell_type": "code",
      "execution_count": null,
      "metadata": {},
      "outputs": [],
      "source": [
        "import os\n",
        "import threading\n",
        "import tkinter as tk\n",
        "from tkinter import ttk\n",
        "from PIL import Image, ImageTk\n",
        "import requests\n",
        "from playsound import playsound\n",
        "\n",
        "# --- Optional alternative audio player for reliability ---\n",
        "try:\n",
        "    from playsound import playsound\n",
        "except ImportError:\n",
        "    raise ImportError(\"Install with: pip install playsound==1.2.2\")\n",
        "\n",
        "\n",
        "\n",
        "# 🎵 GAME SOUND & IMAGE TRIGGERS\n",
        "game_triggers = {\n",
        "    'door unlocked': {\n",
        "        'sound': \"https://drive.google.com/uc?export=download&id=16bhcdxVRzIRmNO0ztLaeQZYHBLPVlB8P\",\n",
        "        'image': \"https://drive.google.com/uc?export=download&id=1_NsFQxkNlO9O11OaqhK6QxY1NhhxbI-o\",\n",
        "    },\n",
        "    'door locked': {\n",
        "        'sound': \"https://drive.google.com/uc?export=download&id=1-BwRmk_3U6TRESsPja5s26ECB8GYcqOU\",\n",
        "        'image': \"https://drive.google.com/uc?export=download&id=1drL22OHO91OgjpT942g2nrmgRZcr0gYa\",\n",
        "    },\n",
        "    'footstep': {\n",
        "        'sound': \"https://drive.google.com/uc?export=download&id=1mlkfF9RW6uhKMeBqixYZlo5w-dVJ_1Uo\",\n",
        "        'image': \"https://drive.google.com/uc?export=download&id=16snfruJnkMN8fkxL_fxDzwCaNhNdRroN\",\n",
        "    },\n",
        "}"
      ]
    },
    {
      "cell_type": "markdown",
      "metadata": {},
      "source": [
        "### TEST WITH PICTURE VIEWER"
      ]
    },
    {
      "cell_type": "code",
      "execution_count": null,
      "metadata": {},
      "outputs": [],
      "source": [
        "import os\n",
        "import threading\n",
        "import platform\n",
        "import tkinter as tk\n",
        "from tkinter import ttk\n",
        "from PIL import Image, ImageTk\n",
        "import requests\n",
        "\n",
        "# --- Optional alternative audio player for reliability ---\n",
        "try:\n",
        "    from playsound import playsound\n",
        "except ImportError:\n",
        "    raise ImportError(\"Install with: pip install playsound==1.2.2\")\n",
        "\n",
        "# 🎵 GAME SOUND & IMAGE TRIGGERS\n",
        "game_triggers = {\n",
        "    'door unlocked': {\n",
        "        'sound': \"https://drive.google.com/uc?export=download&id=16bhcdxVRzIRmNO0ztLaeQZYHBLPVlB8P\",\n",
        "        'image': \"https://drive.google.com/uc?export=download&id=1_NsFQxkNlO9O11OaqhK6QxY1NhhxbI-o\",\n",
        "    },\n",
        "    'door locked': {\n",
        "        'sound': \"https://drive.google.com/uc?export=download&id=1-BwRmk_3U6TRESsPja5s26ECB8GYcqOU\",\n",
        "        'image': \"https://drive.google.com/uc?export=download&id=1drL22OHO91OgjpT942g2nrmgRZcr0gYa\",\n",
        "    },\n",
        "    'footstep': {\n",
        "        'sound': \"https://drive.google.com/uc?export=download&id=1mlkfF9RW6uhKMeBqixYZlo5w-dVJ_1Uo\",\n",
        "        'image': \"https://drive.google.com/uc?export=download&id=16snfruJnkMN8fkxL_fxDzwCaNhNdRroN\",\n",
        "    },\n",
        "}\n",
        "\n",
        "\n",
        "# 🧠 UTILITY: Download & cache file\n",
        "def download_file(url, filename):\n",
        "    if not os.path.exists(filename):\n",
        "        print(f\"⬇️ Downloading {filename}...\")\n",
        "        r = requests.get(url, allow_redirects=True)\n",
        "        with open(filename, 'wb') as f:\n",
        "            f.write(r.content)\n",
        "    return filename\n",
        "\n",
        "\n",
        "# 🔊 SOUND PLAYER (cross-platform)\n",
        "def play_sound_from_url(url, trigger_name):\n",
        "    local_file = f\"{trigger_name.replace(' ', '_')}.mp3\"\n",
        "    download_file(url, local_file)\n",
        "\n",
        "    def play():\n",
        "        try:\n",
        "            # macOS sometimes fails with playsound; fallback to afplay\n",
        "            if platform.system() == \"Darwin\":\n",
        "                os.system(f\"afplay '{local_file}' &\")\n",
        "            else:\n",
        "                playsound(local_file, block=False)\n",
        "        except Exception as e:\n",
        "            print(f\"⚠️ Sound error: {e}\")\n",
        "\n",
        "    threading.Thread(target=play, daemon=True).start()\n",
        "\n",
        "\n",
        "# 🖼️ IMAGE DISPLAY (must run in main thread)\n",
        "def show_image(url, duration=4000, title=\"Game Event\", trigger_name=\"default\"):\n",
        "    local_img = f\"{trigger_name.replace(' ', '_')}.gif\"\n",
        "    download_file(url, local_img)\n",
        "\n",
        "    win = tk.Toplevel()\n",
        "    win.title(title)\n",
        "    win.configure(bg=\"black\")\n",
        "\n",
        "    try:\n",
        "        img = Image.open(local_img)\n",
        "        tk_img = ImageTk.PhotoImage(img)\n",
        "        label = tk.Label(win, image=tk_img, bg=\"black\")\n",
        "        label.image = tk_img  # keep reference!\n",
        "        label.pack()\n",
        "    except Exception as e:\n",
        "        print(f\"Image error: {e}\")\n",
        "\n",
        "    # Auto-close popup after `duration` milliseconds\n",
        "    win.after(duration, win.destroy)\n",
        "\n",
        "\n",
        "# 🎮 MAIN TRIGGER FUNCTION\n",
        "def play_trigger(trigger):\n",
        "    trigger = trigger.lower().strip()\n",
        "    if trigger not in game_triggers:\n",
        "        print(\"Unknown trigger:\", trigger)\n",
        "        return\n",
        "\n",
        "    data = game_triggers[trigger]\n",
        "    sound_url = data.get('sound')\n",
        "    image_url = data.get('image')\n",
        "\n",
        "    print(f\"Trigger: {trigger.capitalize()}\")\n",
        "\n",
        "    if sound_url:\n",
        "        play_sound_from_url(sound_url, trigger)\n",
        "\n",
        "    if image_url:\n",
        "        root.after(0, lambda: show_image(image_url, title=trigger.capitalize(), trigger_name=trigger))\n",
        "\n",
        "\n",
        "\n",
        "# 🚀 MAIN LOOP\n",
        "if __name__ == \"__main__\":\n",
        "    root = tk.Tk()\n",
        "    root.withdraw()  # Hide main window\n",
        "\n",
        "    # 🔹 TEST EVENTS\n",
        "    trigger = 'door unlocked'\n",
        "    play_trigger(trigger)\n",
        "\n",
        "\n",
        "    root.mainloop()  # Call only once at the end"
      ]
    },
    {
      "cell_type": "markdown",
      "metadata": {},
      "source": [
        "----\n",
        "## IMAGE + SOUND USING IMAGE VIEWER AND IMAGE FRAME"
      ]
    },
    {
      "cell_type": "code",
      "execution_count": null,
      "metadata": {},
      "outputs": [],
      "source": [
        "import os\n",
        "import threading\n",
        "import platform\n",
        "import tkinter as tk\n",
        "from tkinter import ttk\n",
        "from PIL import Image, ImageTk\n",
        "import requests\n",
        "\n",
        "try:\n",
        "    from playsound import playsound\n",
        "except ImportError:\n",
        "    raise ImportError(\"Please install playsound with: pip install playsound==1.2.2\")\n",
        "\n",
        "# =============================================\n",
        "# ⚙️ CONFIGURATION\n",
        "# =============================================\n",
        "\n",
        "TRIGGERS = {\n",
        "    \"door unlocked\": {\n",
        "        \"sound\": \"https://drive.google.com/uc?export=download&id=16bhcdxVRzIRmNO0ztLaeQZYHBLPVlB8P\",\n",
        "        \"image\": \"https://drive.google.com/uc?export=download&id=1_NsFQxkNlO9O11OaqhK6QxY1NhhxbI-o\",\n",
        "    },\n",
        "    \"door locked\": {\n",
        "        \"sound\": \"https://drive.google.com/uc?export=download&id=1-BwRmk_3U6TRESsPja5s26ECB8GYcqOU\",\n",
        "        \"image\": \"https://drive.google.com/uc?export=download&id=1drL22OHO91OgjpT942g2nrmgRZcr0gYa\",\n",
        "    },\n",
        "    \"footstep\": {\n",
        "        \"sound\": \"https://drive.google.com/uc?export=download&id=1mlkfF9RW6uhKMeBqixYZlo5w-dVJ_1Uo\",\n",
        "        \"image\": \"https://drive.google.com/uc?export=download&id=16snfruJnkMN8fkxL_fxDzwCaNhNdRroN\",\n",
        "    },\n",
        "}\n",
        "\n",
        "CACHE_DIR = \"cache\"\n",
        "os.makedirs(CACHE_DIR, exist_ok=True)\n",
        "\n",
        "# =============================================\n",
        "# 🧠 UTILITIES\n",
        "# =============================================\n",
        "\n",
        "def download_file(url: str, name: str) -> str | None:\n",
        "    \"\"\"Download a file if not cached, return local path.\"\"\"\n",
        "    local_path = os.path.join(CACHE_DIR, name)\n",
        "    if os.path.exists(local_path):\n",
        "        return local_path\n",
        "\n",
        "    print(f\"⬇️ Downloading {name}...\")\n",
        "    try:\n",
        "        response = requests.get(url, allow_redirects=True, timeout=15)\n",
        "        response.raise_for_status()\n",
        "        with open(local_path, \"wb\") as f:\n",
        "            f.write(response.content)\n",
        "        return local_path\n",
        "    except Exception as e:\n",
        "        print(f\"⚠️ Download error for {url}: {e}\")\n",
        "        return None\n",
        "\n",
        "# =============================================\n",
        "# 🔊 SOUND PLAYER\n",
        "# =============================================\n",
        "\n",
        "def play_sound(url: str, trigger_name: str):\n",
        "    \"\"\"Play sound asynchronously.\"\"\"\n",
        "    local_file = download_file(url, f\"{trigger_name}.mp3\")\n",
        "    if not local_file:\n",
        "        return\n",
        "\n",
        "    def _play():\n",
        "        try:\n",
        "            if platform.system() == \"Darwin\":\n",
        "                os.system(f\"afplay '{local_file}' &\")\n",
        "            elif platform.system() == \"Linux\":\n",
        "                os.system(f\"mpg123 '{local_file}' >/dev/null 2>&1 &\")\n",
        "            else:\n",
        "                playsound(local_file, block=False)\n",
        "        except Exception as e:\n",
        "            print(f\"⚠️ Sound error: {e}\")\n",
        "\n",
        "    threading.Thread(target=_play, daemon=True).start()\n",
        "\n",
        "# =============================================\n",
        "# 🖼️ GUI CLASS\n",
        "# =============================================\n",
        "\n",
        "class GameUI(tk.Tk):\n",
        "    def __init__(self):\n",
        "        super().__init__()\n",
        "        self.title(\"🎮 Game Trigger Visualizer\")\n",
        "        self.configure(bg=\"#101010\")\n",
        "        self.geometry(\"600x500\")\n",
        "\n",
        "        # Image display frame only (no text)\n",
        "        self.image_label = ttk.Label(self)\n",
        "        self.image_label.pack(expand=True)\n",
        "\n",
        "    def show_trigger(self, trigger: str):\n",
        "        \"\"\"Play sound and show image inline without any text output.\"\"\"\n",
        "        trigger = trigger.lower().strip()\n",
        "        data = TRIGGERS.get(trigger)\n",
        "        if not data:\n",
        "            return  # silently ignore unknown triggers\n",
        "\n",
        "        # Play sound\n",
        "        if data.get(\"sound\"):\n",
        "            play_sound(data[\"sound\"], trigger.replace(\" \", \"_\"))\n",
        "\n",
        "        # Show image inline\n",
        "        if data.get(\"image\"):\n",
        "            local_file = download_file(data[\"image\"], f\"{trigger}.gif\")\n",
        "            if local_file:\n",
        "                try:\n",
        "                    img = Image.open(local_file)\n",
        "                    img = img.resize((400, 300), Image.Resampling.LANCZOS)\n",
        "                    tk_img = ImageTk.PhotoImage(img)\n",
        "                    self.image_label.config(image=tk_img)\n",
        "                    self.image_label.image = tk_img\n",
        "                except Exception:\n",
        "                    pass  # silently ignore image errors\n",
        "\n",
        "# =============================================\n",
        "# 🚀 ENTRY POINT\n",
        "# =============================================\n",
        "\n",
        "if __name__ == \"__main__\":\n",
        "    app = GameUI()\n",
        "\n",
        "    # Example: directly show a trigger\n",
        "    trigger = 'door locked'\n",
        "    app.show_trigger(trigger)\n",
        "\n",
        "    trigger = 'door unlocked'\n",
        "    app.show_trigger(trigger)\n",
        "\n",
        "    app.mainloop()\n"
      ]
    },
    {
      "cell_type": "markdown",
      "metadata": {},
      "source": [
        "TESTING TO DISPLAY AND RUN ONE IMAGE AND SOUND AT A TIME"
      ]
    },
    {
      "cell_type": "code",
      "execution_count": null,
      "metadata": {},
      "outputs": [],
      "source": [
        "# =============================================\n",
        "# 🚀 ENTRY POINT\n",
        "# =============================================\n",
        "\n",
        "if __name__ == \"__main__\":\n",
        "    app = GameUI()\n",
        "\n",
        "    # Example: directly show a trigger\n",
        "    trigger = 'footstep'\n",
        "    app.show_trigger(trigger)\n",
        "\n",
        "    app.mainloop()"
      ]
    },
    {
      "cell_type": "markdown",
      "metadata": {},
      "source": [
        "## COPY"
      ]
    },
    {
      "cell_type": "code",
      "execution_count": null,
      "metadata": {},
      "outputs": [],
      "source": [
        "import os\n",
        "import threading\n",
        "import platform\n",
        "import tkinter as tk\n",
        "from tkinter import ttk\n",
        "from PIL import Image, ImageTk\n",
        "import requests\n",
        "import time\n",
        "\n",
        "try:\n",
        "    from playsound import playsound\n",
        "except ImportError:\n",
        "    raise ImportError(\"Please install playsound with: pip install playsound==1.2.2\")\n",
        "\n",
        "# =============================================\n",
        "# ⚙️ CONFIGURATION\n",
        "# =============================================\n",
        "\n",
        "TRIGGERS = {\n",
        "    \"game room\": {\n",
        "        \"sound\": \"https://drive.google.com/uc?export=download&id=16bhcdxVRzIRmNO0ztLaeQZYHBLPVlB8P\",\n",
        "        \"image\": \"https://drive.google.com/uc?export=download&id=1_NsFQxkNlO9O11OaqhK6QxY1NhhxbI-o\",\n",
        "    },    \n",
        "    \"bedroom 1\": {\n",
        "        \"sound\": \"https://drive.google.com/uc?export=download&id=16bhcdxVRzIRmNO0ztLaeQZYHBLPVlB8P\",\n",
        "        \"image\": \"https://drive.google.com/uc?export=download&id=1_NsFQxkNlO9O11OaqhK6QxY1NhhxbI-o\",\n",
        "    },\n",
        "# add other spaces as well\n",
        "\n",
        "    \"examine\": {\n",
        "        \"sound\": \"https://drive.google.com/uc?export=download&id=16bhcdxVRzIRmNO0ztLaeQZYHBLPVlB8P\",\n",
        "        \"image\": \"https://drive.google.com/uc?export=download&id=1_NsFQxkNlO9O11OaqhK6QxY1NhhxbI-o\",\n",
        "    },\n",
        "\n",
        "    \"found key\": {\n",
        "        \"sound\": \"https://drive.google.com/uc?export=download&id=16bhcdxVRzIRmNO0ztLaeQZYHBLPVlB8P\",\n",
        "        \"image\": \"https://drive.google.com/uc?export=download&id=1_NsFQxkNlO9O11OaqhK6QxY1NhhxbI-o\",\n",
        "    },\n",
        "\n",
        "    \"not found key\": {\n",
        "        \"sound\": \"https://drive.google.com/uc?export=download&id=16bhcdxVRzIRmNO0ztLaeQZYHBLPVlB8P\",\n",
        "        \"image\": \"https://drive.google.com/uc?export=download&id=1_NsFQxkNlO9O11OaqhK6QxY1NhhxbI-o\",\n",
        "    },\n",
        "\n",
        "\n",
        "    \"quiz\": {\n",
        "        \"sound\": \"https://drive.google.com/uc?export=download&id=16bhcdxVRzIRmNO0ztLaeQZYHBLPVlB8P\",\n",
        "        \"image\": \"https://drive.google.com/uc?export=download&id=1_NsFQxkNlO9O11OaqhK6QxY1NhhxbI-o\",\n",
        "    },\n",
        "\n",
        "    \"door locked\": {\n",
        "        \"sound\": \"https://drive.google.com/uc?export=download&id=1-BwRmk_3U6TRESsPja5s26ECB8GYcqOU\",\n",
        "        \"image\": \"https://drive.google.com/uc?export=download&id=1drL22OHO91OgjpT942g2nrmgRZcr0gYa\",\n",
        "    },\n",
        "\n",
        "    \"door unlocked\": {\n",
        "        \"sound\": \"https://drive.google.com/uc?export=download&id=16bhcdxVRzIRmNO0ztLaeQZYHBLPVlB8P\",\n",
        "        \"image\": \"https://drive.google.com/uc?export=download&id=1_NsFQxkNlO9O11OaqhK6QxY1NhhxbI-o\",\n",
        "    },\n",
        "\n",
        "    \"footstep\": {\n",
        "        \"sound\": \"https://drive.google.com/uc?export=download&id=1mlkfF9RW6uhKMeBqixYZlo5w-dVJ_1Uo\",\n",
        "        \"image\": \"https://drive.google.com/uc?export=download&id=16snfruJnkMN8fkxL_fxDzwCaNhNdRroN\",\n",
        "    },\n",
        "}\n",
        "\n",
        "CACHE_DIR = \"cache\"\n",
        "os.makedirs(CACHE_DIR, exist_ok=True)\n",
        "\n",
        "# =============================================\n",
        "# 🧠 UTILITIES\n",
        "# =============================================\n",
        "\n",
        "def download_file(url: str, name: str) -> str | None:\n",
        "    \"\"\"Download a file if not cached, return local path.\"\"\"\n",
        "    local_path = os.path.join(CACHE_DIR, name)\n",
        "    if os.path.exists(local_path):\n",
        "        return local_path\n",
        "\n",
        "    print(f\"⬇️ Downloading {name}...\")\n",
        "    try:\n",
        "        response = requests.get(url, allow_redirects=True, timeout=15)\n",
        "        response.raise_for_status()\n",
        "        with open(local_path, \"wb\") as f:\n",
        "            f.write(response.content)\n",
        "        return local_path\n",
        "    except Exception as e:\n",
        "        print(f\"⚠️ Download error for {url}: {e}\")\n",
        "        return None\n",
        "\n",
        "# =============================================\n",
        "# 🔊 SOUND PLAYER\n",
        "# =============================================\n",
        "\n",
        "def play_sound(url: str, trigger_name: str):\n",
        "    \"\"\"Play sound asynchronously.\"\"\"\n",
        "    local_file = download_file(url, f\"{trigger_name}.mp3\")\n",
        "    if not local_file:\n",
        "        return\n",
        "\n",
        "    def _play():\n",
        "        try:\n",
        "            if platform.system() == \"Darwin\":\n",
        "                os.system(f\"afplay '{local_file}' &\")\n",
        "            elif platform.system() == \"Linux\":\n",
        "                os.system(f\"mpg123 '{local_file}' >/dev/null 2>&1 &\")\n",
        "            else:\n",
        "                playsound(local_file, block=False)\n",
        "        except Exception as e:\n",
        "            print(f\"⚠️ Sound error: {e}\")\n",
        "\n",
        "    threading.Thread(target=_play, daemon=True).start()\n",
        "\n",
        "# =============================================\n",
        "# 🖼️ MAIN GAME UI CLASS\n",
        "# =============================================\n",
        "\n",
        "class GameUI(tk.Tk):\n",
        "    def __init__(self):\n",
        "        super().__init__()\n",
        "        self.title(\"🎮 Game Trigger Visualizer\")\n",
        "        self.configure(bg=\"#101010\")\n",
        "        self.geometry(\"600x500\")\n",
        "\n",
        "        self.image_label = ttk.Label(self)\n",
        "        self.image_label.pack(expand=True)\n",
        "\n",
        "    def show_trigger(self, trigger: str):\n",
        "        \"\"\"Play sound and show image inline.\"\"\"\n",
        "        trigger = trigger.lower().strip()\n",
        "        data = TRIGGERS.get(trigger)\n",
        "        if not data:\n",
        "            print(f\"⚠️ Unknown trigger: {trigger}\")\n",
        "            return\n",
        "\n",
        "        # Play sound\n",
        "        if data.get(\"sound\"):\n",
        "            play_sound(data[\"sound\"], trigger.replace(\" \", \"_\"))\n",
        "\n",
        "        # Show image\n",
        "        if data.get(\"image\"):\n",
        "            local_file = download_file(data[\"image\"], f\"{trigger}.gif\")\n",
        "            if local_file:\n",
        "                try:\n",
        "                    img = Image.open(local_file)\n",
        "                    img = img.resize((400, 300), Image.Resampling.LANCZOS)\n",
        "                    tk_img = ImageTk.PhotoImage(img)\n",
        "                    self.image_label.config(image=tk_img)\n",
        "                    self.image_label.image = tk_img\n",
        "                except Exception as e:\n",
        "                    print(f\"⚠️ Image error: {e}\")\n",
        "\n",
        "# =============================================\n",
        "# 🚀 GLOBAL APP INSTANCE + CALLABLE FUNCTION\n",
        "# =============================================\n",
        "\n",
        "# Create the app globally\n",
        "app = GameUI()\n",
        "\n",
        "def trigger_event(trigger_name: str):\n",
        "    \"\"\"Public function to call triggers from anywhere.\"\"\"\n",
        "    app.after(0, lambda: app.show_trigger(trigger_name))\n",
        "\n",
        "# =============================================\n",
        "# 🚀 MAIN\n",
        "# =============================================\n",
        "#if __name__ == \"__main__\":\n",
        "    # Example: simulate calling triggers from different parts of code\n",
        "    #def simulate_events():\n",
        "        #trigger = \"door locked\"\n",
        "        #trigger_event(trigger)\n",
        "        #time.sleep(3)\n",
        "        \n",
        "        #trigger = \"door unlocked\"\n",
        "        #trigger_event(trigger)\n",
        "\n",
        "        #trigger_event(\"footstep\")\n",
        "\n",
        "    #threading.Thread(target=simulate_events, daemon=True).start()\n",
        "\n",
        "    #app.mainloop()\n",
        "\n",
        "\n",
        "# fix this code so i can use the function trigger_event(trigger:str) to call for the trigger to display sound and image just like it does above but\n",
        "# i want to also not force me into a sequence of triggers i wanna be able to call just one trigger with this function depends on the value of trigger"
      ]
    },
    {
      "cell_type": "code",
      "execution_count": null,
      "metadata": {},
      "outputs": [],
      "source": [
        "trigger_event('footstep')"
      ]
    },
    {
      "cell_type": "markdown",
      "metadata": {},
      "source": [
        "--------\n",
        "--------\n",
        "--------\n",
        "--------\n",
        "--------\n",
        "--------\n",
        "# NEW RODRIGO CODE\n",
        "\n",
        "## Fixed code, must use this to work in Mac and Windows\n"
      ]
    },
    {
      "cell_type": "code",
      "execution_count": null,
      "metadata": {},
      "outputs": [],
      "source": [
        "!pip install pillow\n",
        "!pip install playsound==1.2.2\n",
        "!pip install pyobjc"
      ]
    },
    {
      "cell_type": "code",
      "execution_count": null,
      "metadata": {},
      "outputs": [],
      "source": [
        "import os\n",
        "import threading\n",
        "import platform\n",
        "import tkinter as tk\n",
        "from tkinter import ttk\n",
        "from PIL import Image, ImageTk\n",
        "import requests\n",
        "import time\n",
        "\n",
        "try:\n",
        "    from playsound import playsound\n",
        "except ImportError:\n",
        "    raise ImportError(\"Please install playsound with: pip install playsound==1.2.2\")\n",
        "\n",
        "# =============================================\n",
        "# ⚙️ CONFIGURATION\n",
        "# =============================================\n",
        "\n",
        "TRIGGERS = {\n",
        "    \"door unlocked\": {\n",
        "        \"sound\": \"https://drive.google.com/uc?export=download&id=16bhcdxVRzIRmNO0ztLaeQZYHBLPVlB8P\",\n",
        "        \"image\": \"https://drive.google.com/uc?export=download&id=1_NsFQxkNlO9O11OaqhK6QxY1NhhxbI-o\",\n",
        "    },\n",
        "    \"door locked\": {\n",
        "        \"sound\": \"https://drive.google.com/uc?export=download&id=1-BwRmk_3U6TRESsPja5s26ECB8GYcqOU\",\n",
        "        \"image\": \"https://drive.google.com/uc?export=download&id=1drL22OHO91OgjpT942g2nrmgRZcr0gYa\",\n",
        "    },\n",
        "    \"footstep\": {\n",
        "        \"sound\": \"https://drive.google.com/uc?export=download&id=1mlkfF9RW6uhKMeBqixYZlo5w-dVJ_1Uo\",\n",
        "        \"image\": \"https://drive.google.com/uc?export=download&id=16snfruJnkMN8fkxL_fxDzwCaNhNdRroN\",\n",
        "    },\n",
        "}\n",
        "\n",
        "CACHE_DIR = \"cache\"\n",
        "os.makedirs(CACHE_DIR, exist_ok=True)\n",
        "\n",
        "# =============================================\n",
        "# 🧠 UTILITIES\n",
        "# =============================================\n",
        "\n",
        "def download_file(url: str, name: str) -> str | None:\n",
        "    \"\"\"Download a file if not cached, return local path.\"\"\"\n",
        "    local_path = os.path.join(CACHE_DIR, name)\n",
        "    if os.path.exists(local_path):\n",
        "        return local_path\n",
        "\n",
        "    print(f\"⬇️ Downloading {name}...\")\n",
        "    try:\n",
        "        response = requests.get(url, allow_redirects=True, timeout=15)\n",
        "        response.raise_for_status()\n",
        "        with open(local_path, \"wb\") as f:\n",
        "            f.write(response.content)\n",
        "        return local_path\n",
        "    except Exception as e:\n",
        "        print(f\"⚠️ Download error for {url}: {e}\")\n",
        "        return None\n",
        "\n",
        "# =============================================\n",
        "# 🔊 SOUND PLAYER\n",
        "# =============================================\n",
        "\n",
        "def play_sound(url: str, trigger_name: str):\n",
        "    \"\"\"Play sound asynchronously.\"\"\"\n",
        "    local_file = download_file(url, f\"{trigger_name}.mp3\")\n",
        "    if not local_file:\n",
        "        return\n",
        "\n",
        "    def _play():\n",
        "        try:\n",
        "            if platform.system() == \"Darwin\":\n",
        "                os.system(f\"afplay '{local_file}' &\")\n",
        "            elif platform.system() == \"Linux\":\n",
        "                os.system(f\"mpg123 '{local_file}' >/dev/null 2>&1 &\")\n",
        "            else:\n",
        "                playsound(local_file, block=False)\n",
        "        except Exception as e:\n",
        "            print(f\"⚠️ Sound error: {e}\")\n",
        "\n",
        "    threading.Thread(target=_play, daemon=True).start()\n",
        "\n",
        "# =============================================\n",
        "# 🖼️ MAIN GAME UI CLASS\n",
        "# =============================================\n",
        "\n",
        "class GameUI(tk.Tk):\n",
        "    def __init__(self):\n",
        "        super().__init__()\n",
        "        self.title(\"🎮 Game Trigger Visualizer\")\n",
        "        self.configure(bg=\"#101010\")\n",
        "        self.geometry(\"600x500\")\n",
        "\n",
        "        self.image_label = ttk.Label(self)\n",
        "        self.image_label.pack(expand=True)\n",
        "\n",
        "    def show_trigger(self, trigger: str):\n",
        "        \"\"\"Play sound and show image inline.\"\"\"\n",
        "        trigger = trigger.lower().strip()\n",
        "        data = TRIGGERS.get(trigger)\n",
        "        if not data:\n",
        "            print(f\"⚠️ Unknown trigger: {trigger}\")\n",
        "            return\n",
        "\n",
        "        # Play sound\n",
        "        if data.get(\"sound\"):\n",
        "            play_sound(data[\"sound\"], trigger.replace(\" \", \"_\"))\n",
        "\n",
        "        # Show image\n",
        "        if data.get(\"image\"):\n",
        "            local_file = download_file(data[\"image\"], f\"{trigger}.gif\")\n",
        "            if local_file:\n",
        "                try:\n",
        "                    img = Image.open(local_file)\n",
        "                    img = img.resize((400, 300), Image.Resampling.LANCZOS)\n",
        "                    tk_img = ImageTk.PhotoImage(img)\n",
        "                    self.image_label.config(image=tk_img)\n",
        "                    self.image_label.image = tk_img\n",
        "                except Exception as e:\n",
        "                    print(f\"⚠️ Image error: {e}\")\n",
        "\n",
        "# =============================================\n",
        "# 🚀 GLOBAL APP INSTANCE + CALLABLE FUNCTION\n",
        "# =============================================\n",
        "\n",
        "# Create the app globally\n",
        "app = GameUI()\n",
        "\n",
        "def trigger_event(trigger_name: str):\n",
        "    \"\"\"Public function to call triggers from anywhere.\"\"\"\n",
        "    app.after(0, lambda: app.show_trigger(trigger_name))\n",
        "\n",
        "# =============================================\n",
        "# 🚀 MAIN\n",
        "# =============================================\n",
        "if __name__ == \"__main__\":\n",
        "    # Example: simulate calling triggers from different parts of code\n",
        "    def simulate_events():\n",
        "        trigger_event(\"door locked\")\n",
        "        time.sleep(3)\n",
        "        trigger_event(\"door unlocked\")\n",
        "        time.sleep(3)\n",
        "        trigger_event(\"footstep\")\n",
        "\n",
        "    threading.Thread(target=simulate_events, daemon=True).start()\n",
        "\n",
        "    app.mainloop()\n",
        "\n"
      ]
    },
    {
      "cell_type": "markdown",
      "metadata": {
        "id": "ZDZJw1bQEmZJ"
      },
      "source": [
        "---\n",
        "---\n",
        "---\n",
        "## GAME FUNCTIONS - SAMIA\n",
        "PLAYER ACTION takes player_input to then call another function from a list of actions  using utils.py file with those functions "
      ]
    },
    {
      "cell_type": "markdown",
      "metadata": {
        "id": "92uf9jaCiq0z"
      },
      "source": [
        "#### ACTION 0 : SHOW AVAILABLE ACTIONS  ! (PLAYER_INPUT)\n",
        "```\n",
        "SABINA COMMENT: You can do `return action` instead of `break`. `return` automatically stops the function so because the while loop is INSIDE the function, then it will stop as well once the action is returned.\n",
        "\n",
        "```"
      ]
    },
    {
      "cell_type": "markdown",
      "metadata": {},
      "source": [
        "---\n",
        "## GAME DATA (DICT & LIST)"
      ]
    },
    {
      "cell_type": "markdown",
      "metadata": {},
      "source": [
        "### DICT : GAME AREAS"
      ]
    },
    {
      "cell_type": "code",
      "execution_count": null,
      "metadata": {},
      "outputs": [],
      "source": [
        "# Each key in this dictionary represents a room; each value is a list of objects, doors and keys\n",
        "\n",
        "# Dictionary : GAME AREAS\n",
        "game_areas = {\n",
        "    \"game room\" : ['couch', 'piano', 'door A', 'key door A'],\n",
        "    \"bedroom 1\": ['queen bed', 'door A', 'door B', 'door C', 'key door B'],\n",
        "    \"bedroom 2\": ['double bed', 'door B', 'dresser', 'key door D', 'key door C'],\n",
        "    \"living room\": [\"dining table\", 'door C', 'door D'],\n",
        "    \"outside\": [\"freedom\"]\n",
        "}\n",
        "\n",
        "# List : dictionary Keys\n",
        "spaces = game_areas.keys()\n",
        "print(\"GAME AREAS Dictionary:\")\n",
        "print(\"Dictionary Keys:\\n\",spaces,\"\\n\")\n",
        "\n",
        "# Print dictionary organised\n",
        "print(\"Dictionary:\\n{   key   :   value     }\")\n",
        "for i in spaces:\n",
        "  print(i,\":\",game_areas[i])"
      ]
    },
    {
      "cell_type": "markdown",
      "metadata": {},
      "source": [
        "### DICT : GAME STATE"
      ]
    },
    {
      "cell_type": "code",
      "execution_count": null,
      "metadata": {},
      "outputs": [],
      "source": [
        "# Keep track of the player : current space; current item to examine; and inventory of keys\n",
        "# Dict : GAME STATE\n",
        "game_state = {\n",
        "    'space_path' : [], # player current space to navigate and make a space path\n",
        "    'item_path' : [], # to select an item to examine for key; and make an item path\n",
        "    'inventory': [], # to store found keys\n",
        "    'time': [\"display_clock_countdown\"] , #library time for live timer and countdown\n",
        "}\n",
        "\n",
        "# List : dictionary Keys\n",
        "states = game_state.keys()\n",
        "print(\"GAME STATE Dictionary:\")\n",
        "print(\"Dictionary Keys:\\n\",states,\"\\n\")\n",
        "\n",
        "# Print dictionary organised\n",
        "print(\"Dictionary:\\n{   key   :   value     }\")\n",
        "for i in states:\n",
        "  print(i,\":\",game_state[i])"
      ]
    },
    {
      "cell_type": "markdown",
      "metadata": {},
      "source": [
        "---\n",
        "### GAME INTRO:"
      ]
    },
    {
      "cell_type": "code",
      "execution_count": null,
      "metadata": {},
      "outputs": [],
      "source": [
        "# initialize game by printing welcome message\n",
        "print(\"Welcome to the Escape Room Game!\")\n",
        "\n",
        "# Big \"Time's Up\" banner\n",
        "print(\"\\n\" + \"*\"*60)\n",
        "print(\"*****         WELCOME TO THE ESCAPE ROOM GAME!         *****\")\n",
        "print(\"*****               Made by POSH SPICE                 *****\")\n",
        "print(\"*\"*60 + \"\\n\")"
      ]
    },
    {
      "cell_type": "markdown",
      "metadata": {},
      "source": [
        "---\n",
        "### Libraries & packages:"
      ]
    },
    {
      "cell_type": "code",
      "execution_count": null,
      "metadata": {},
      "outputs": [],
      "source": [
        "import sys\n",
        "sys.path.append(\"modules\")  # add the folder to Python path\n",
        "import utils  # functions in python file utils.py\n"
      ]
    },
    {
      "cell_type": "code",
      "execution_count": null,
      "metadata": {},
      "outputs": [],
      "source": [
        "from importlib import reload\n",
        "import utils\n",
        "reload(utils)"
      ]
    },
    {
      "cell_type": "code",
      "execution_count": null,
      "metadata": {},
      "outputs": [],
      "source": [
        "def refresh_utils():\n",
        "    from importlib import reload\n",
        "    import utils\n",
        "    reload(utils)\n",
        "    print(\"utils.py reloaded ✅\")\n",
        "\n",
        "# Use this anytime you update utils.py\n",
        "refresh_utils()"
      ]
    },
    {
      "cell_type": "markdown",
      "metadata": {},
      "source": [
        "### LISTS:"
      ]
    },
    {
      "cell_type": "code",
      "execution_count": null,
      "metadata": {},
      "outputs": [],
      "source": [
        "# LIST : actions available to a player\n",
        "actions = ['explore', 'examine', 'unlock door', 'navigate', 'restart', 'quit','play']\n",
        "print(\"Player's actions in the game :\",actions)\n",
        "\n",
        "# LIST : spaces\n",
        "spaces = ['game room', 'bedroom 1', 'bedroom 2', 'living room','outside']\n",
        "print(\"\\nSpaces in the game :\",spaces)\n",
        "\n",
        "# LIST : items\n",
        "items = ['couch', 'piano', 'queen bed', 'double bed', 'dresser', \"dining table\"]\n",
        "print(\"\\nItems in the game :\",items)\n",
        "\n",
        "# LIST : doors\n",
        "doors = ['door A', 'door B', 'door C', 'door D']\n",
        "print(\"\\nDoors in the game :\",doors)\n",
        "\n",
        "# LIST : keys\n",
        "keys = ['key door A', 'key door B', 'key door C', 'key door D']\n",
        "print(\"\\nKeys in the game :\",keys)"
      ]
    },
    {
      "cell_type": "markdown",
      "metadata": {},
      "source": [
        "### SHOW AVAILABLE ACTIONS + PLAYER INPUT"
      ]
    },
    {
      "cell_type": "code",
      "execution_count": null,
      "metadata": {},
      "outputs": [],
      "source": [
        "print(\"\\nHere is a list of actions:\",actions) # Print the list of actions"
      ]
    },
    {
      "cell_type": "markdown",
      "metadata": {},
      "source": [
        "### How to use utils"
      ]
    },
    {
      "cell_type": "code",
      "execution_count": null,
      "metadata": {},
      "outputs": [],
      "source": [
        "from importlib import reload\n",
        "import utils\n",
        "\n",
        "# Reload the module (in case you changed it)\n",
        "reload(utils)\n",
        "\n",
        "# Example inputs\n",
        "function_name = \"my_function\"\n",
        "function_args = (1, 2, 3)                # positional arguments\n",
        "function_kwargs = {\"x\": 10, \"y\": 20}     # keyword arguments\n",
        "\n",
        "# Get the function object from the module\n",
        "func = getattr(utils, function_name)\n",
        "\n",
        "# Call it with args and kwargs\n",
        "result = func(*function_args, **function_kwargs)\n",
        "\n",
        "print(result)"
      ]
    },
    {
      "cell_type": "markdown",
      "metadata": {},
      "source": [
        "USING UTILS TO CALL FUNCTION : PLAYER_INPUT"
      ]
    },
    {
      "cell_type": "code",
      "execution_count": null,
      "metadata": {},
      "outputs": [],
      "source": [
        "import utils\n",
        "\n",
        "# Example start\n",
        "\n",
        "# Example inputs\n",
        "function_name = \"my_function\"\n",
        "arg_input=(input(\"Enter an action: \"))\n",
        "function_args = (arg_input) # positional arguments\n",
        "#function_kwargs = {\"x\": 10, \"y\": 20}         # keyword arguments\n",
        "\n",
        "# Get the function object from the module\n",
        "func = getattr(utils, function_name)\n",
        "\n",
        "# Call it with args and kwargs\n",
        "x = func(*function_args)\n",
        "\n"
      ]
    },
    {
      "cell_type": "markdown",
      "metadata": {},
      "source": [
        "### ACTION 0: PLAYER_INPUT=PLAY"
      ]
    },
    {
      "cell_type": "code",
      "execution_count": null,
      "metadata": {},
      "outputs": [],
      "source": [
        "from importlib import reload\n",
        "import utils\n",
        "reload(utils)\n",
        "\n",
        " \n",
        " #initialize player_input variable\n",
        "print(\"Here is a list of actions :\",actions) # Print the list of actions\n",
        "\n",
        "# use getattr to call a function from utils \n",
        "getattr(utils, player_input = 'play')\n",
        "\n"
      ]
    },
    {
      "cell_type": "code",
      "execution_count": null,
      "metadata": {},
      "outputs": [],
      "source": [
        "import utils\n",
        "\n",
        "# define Function : explore(current_space)\n",
        "\n",
        "current_space = 'game room'\n",
        "# Function: explore(current_space)\n",
        "def explore(current_space):\n",
        "    print(f\"You are exploring {current_space}. You see these items:\")\n",
        "    for item in items:\n",
        "        print(\"-\", item)\n",
        "    return items\n",
        "\n",
        "action = 'explore'\n",
        "# use getattr to call explore function from utils  \n",
        "print(f\"\\nPlayer input your action : {action}\")\n",
        "function_return = getattr(utils, action)()  # Call the function with the same name as the action\n",
        "print(\"Return:\", function_return)"
      ]
    },
    {
      "cell_type": "code",
      "execution_count": null,
      "metadata": {},
      "outputs": [],
      "source": [
        "import utils\n",
        "\n",
        "# List of actions\n",
        "actions = ['explore', 'examine', 'unlock_door', 'navigate', 'restart', 'quit']\n",
        "\n",
        "# Example: dynamically call function based on the list\n",
        "for action in actions:\n",
        "    print(f\"\\nCalling action: {action}\")\n",
        "    function_return = getattr(utils, action)()  # Call the function with the same name as the action\n",
        "    print(\"Return:\", function_return)"
      ]
    },
    {
      "cell_type": "markdown",
      "metadata": {},
      "source": [
        "### prabhsheen \n",
        "  "
      ]
    },
    {
      "cell_type": "code",
      "execution_count": null,
      "metadata": {},
      "outputs": [],
      "source": [
        "def door_a_quiz():\n",
        "    print(\"Question: What is the primary function of Door A, as suggested by its location in the floor plan?\")\n",
        "    print(\"A) To access the outdoors.\")\n",
        "    print(\"B) To provide entry or exit to a specific room.\")\n",
        "    print(\"C) To serve as a decorative element.\")\n",
        "\n",
        "    answer = input(\"Enter your choice (A, B, or C): \").upper()\n",
        "\n",
        "    if answer == \"B\":\n",
        "        print(\"Correct! Door A is most likely for entering or exiting a room.\")\n",
        "    else:\n",
        "        print(\"Incorrect. Try again!\")\n",
        "\n",
        "door_a_quiz()\n",
        "\n",
        "def door_b_quiz():\n",
        "    print(\"Question: Considering the layout, which room is Door B most likely connected to?\")\n",
        "    print(\"A) The Game Room\")\n",
        "    print(\"B) Bedroom 1\")\n",
        "    print(\"C) The Outdoors\")\n",
        "\n",
        "    answer = input(\"Enter your choice (A, B, or C): \").upper()\n",
        "\n",
        "    if answer == \"B\":\n",
        "        print(\"Correct! Based on the plan, Door B likely leads to Bedroom 1.\")\n",
        "    else:\n",
        "        print(\"Incorrect. Try again!\")\n",
        "\n",
        "door_b_quiz()\n",
        "\n",
        "def door_c_quiz():\n",
        "    print(\"Question: If you wake up on the couch, and the key to Door C is found nearby, what is the most logical room Door C leads to, considering the floor plan?\")\n",
        "    print(\"A) The Game Room\")\n",
        "    print(\"B) Bedroom 2\")\n",
        "    print(\"C) The Outdoors\")\n",
        "\n",
        "    answer = input(\"Enter your choice (A, B, or C): \").upper()\n",
        "\n",
        "    if answer == \"C\":\n",
        "        print(\"Correct! It makes sense that Door C might lead outside.\")\n",
        "    else:\n",
        "        print(\"Incorrect. Consider the layout again!\")\n",
        "\n",
        "door_c_quiz()\n",
        "\n",
        "def door_d_quiz():\n",
        "    print(\"Question: Considering the floor plan, and the fact you woke up on the couch, where is Door D most likely located?\")\n",
        "    print(\"A) In the Game Room\")\n",
        "    print(\"B) In Bedroom 1\")\n",
        "    print(\"C) Not visible on the plan\")\n",
        "\n",
        "    answer = input(\"Enter your choice (A, B, or C): \").upper()\n",
        "\n",
        "    if answer == \"C\":\n",
        "        print(\"Correct! Since Door D isn't shown, it's not visible on the plan.\")\n",
        "    else:\n",
        "        print(\"Incorrect. Maybe Door D is a secret door?\")\n",
        "\n",
        "door_d_quiz()"
      ]
    },
    {
      "cell_type": "markdown",
      "metadata": {
        "id": "fT9WMHALilib"
      },
      "source": [
        "\n",
        "#### ACTION 1 : EXPLORE(current_space) returns items which is list of furnitures in current_space"
      ]
    },
    {
      "cell_type": "code",
      "execution_count": null,
      "metadata": {},
      "outputs": [],
      "source": [
        "import utils\n",
        "\n",
        "# initialize current space\n",
        "current_space = 'game room'\n",
        "\n",
        "# update current space from user input \n",
        "current_space = input(\"Which space you are in?\")\n",
        "\n",
        "# define Function : explore(current_space)\n",
        "def explore(current_space):\n",
        "    items = []\n",
        "    if current_space == 'game room':\n",
        "        items = ['couch', 'piano', 'queen bed', 'double bed', 'dresser', \"dining table\"]\n",
        "    elif current_space == 'kitchen':\n",
        "        items = ['fridge', 'oven', 'sink', 'table', 'chairs']\n",
        "    elif current_space == 'bedroom':\n",
        "        items = ['bed', 'wardrobe', 'nightstand', 'lamp']\n",
        "    return items # return items in the current space\n",
        "\n",
        "explore(\n",
        "    utils.explore()\n",
        ")"
      ]
    },
    {
      "cell_type": "markdown",
      "metadata": {
        "id": "U8FK_iU6ibPb"
      },
      "source": [
        "#### ACTION 3 : UNLOCK DOOR\n",
        "```\n",
        "\n",
        "  # Define Function : def unlock_door():\n",
        "  def unlock_door():\n",
        "    door = input(\"Type the door you want to try unlock : \")\n",
        "  return door\n",
        "\n",
        "  # Call Function : unlock_door()\n",
        "  unlock_door()\n",
        "\n",
        "---------------------------------------------------------------\n",
        "#### Compare two strings using if 'door A' in inventory list of keys\n",
        "#### since \"door A\" is part of the string \"key door A\" we get true\n",
        "#### or we can approach it in a different way\n",
        "```"
      ]
    },
    {
      "cell_type": "code",
      "execution_count": null,
      "metadata": {
        "colab": {
          "base_uri": "https://localhost:8080/",
          "height": 54
        },
        "id": "pw5_s4j24fda",
        "outputId": "80ee96b0-6c65-4221-92f5-7c28b5a64d64"
      },
      "outputs": [],
      "source": [
        "#\n",
        "\n",
        "# Define Function : def unlock_door():\n",
        "def unlock_door():\n",
        "  door = input(\"Type the door you want to try unlock : \")\n",
        "  return door\n",
        "\n",
        "# Call Function : unlock_door()\n",
        "unlock_door()"
      ]
    },
    {
      "cell_type": "markdown",
      "metadata": {
        "id": "8d-gk11hiYAE"
      },
      "source": [
        "\n",
        "#### ACTION 4 : NAVIGATE\n",
        "```\n",
        "\n",
        "  # Define Function : def navigate():\n",
        "  def navigate():\n",
        "    answer = low(input(\"Test key? Answer yes or no\"))   \n",
        "    # yes = True | no = False\n",
        "    if answer=yes\n",
        "    current_space =\n",
        "  return current_space\n",
        "\n",
        "  # Call Function : navigate()\n",
        "  navigate()\n",
        "\n",
        "---------------------------------------------------------------\n",
        "####\n",
        "####\n",
        "####\n",
        "```"
      ]
    },
    {
      "cell_type": "markdown",
      "metadata": {
        "id": "h0jtqrpGiDCd"
      },
      "source": [
        "### PLAYER ACTIONS"
      ]
    },
    {
      "cell_type": "markdown",
      "metadata": {
        "id": "mkAFUYxyjRIb"
      },
      "source": [
        "We define actions of the player"
      ]
    },
    {
      "cell_type": "markdown",
      "metadata": {
        "id": "Z8axtcgYjax6"
      },
      "source": [
        "**STEPS:**\n",
        "1. We show the actions for the Player\n",
        "2. We prompt the player to choose with error handling in mind\n",
        "3. We print the chosen action\n"
      ]
    },
    {
      "cell_type": "code",
      "execution_count": null,
      "metadata": {
        "colab": {
          "base_uri": "https://localhost:8080/"
        },
        "id": "76a1cI9H8dmk",
        "outputId": "8b66019d-801b-4f50-a50d-0c18908e4134"
      },
      "outputs": [],
      "source": [
        "# List: Actions available to the player\n",
        "actions = ['explore', 'examine', 'unlock door', 'navigate', 'quit', 'restart'] # definition of list of actions\n",
        "\n",
        "# Print the list\n",
        "print(\"Here is a list of actions :\",actions)\n",
        "player_input = 'play'\n",
        "\n",
        "# While Loop, if else, break : action_choice\n",
        "while player_input != 'quit': # While Loop\n",
        "  action_choice = input(\"PLAYER! Choose your action :\").lower() # Player inputs space of choice\n",
        "\n",
        "  if action_choice in actions:\n",
        "    print(\"Player chose to :\",action_choice)\n",
        "    break\n",
        "  else:\n",
        "    print(\"Typing Error, choose again!\")\n",
        "    # SABINA COMMENT: This would technically be a ValueError, not TypingError. Typing error is when you input a float instead of a string\n",
        "    # but Value error is when you put \"get me out of the game\" instead of \"quit\"\n"
      ]
    },
    {
      "cell_type": "code",
      "execution_count": null,
      "metadata": {
        "colab": {
          "base_uri": "https://localhost:8080/",
          "height": 106
        },
        "id": "Ul-AiQei3e06",
        "outputId": "c925cecc-4192-4b1d-da09-6a634f9c79c3"
      },
      "outputs": [],
      "source": [
        "# Function unlock door\n",
        "door = 'door A'\n",
        "door = 'door B'\n",
        "def navigate(door):\n",
        "  if door in 'key door A' # SABINA COMMENT: This value is hard-coded, so this function\n",
        "                          # will only work for opening door A and it will cause you issues down the line...\n",
        "    print('unlocked! you enter a new space.')\n",
        "  else:\n",
        "    print('door locked! you need a key.')\n",
        "    return door\n",
        "\n",
        "\n"
      ]
    },
    {
      "cell_type": "code",
      "execution_count": null,
      "metadata": {
        "colab": {
          "base_uri": "https://localhost:8080/",
          "height": 256
        },
        "id": "WnuPY2XVpyFw",
        "outputId": "02199d39-f3c4-40d3-9d54-fcd3bfdd9d88"
      },
      "outputs": [],
      "source": [
        "# ACTION 0 : Define Function : PRINT AVAILABLE CHOICES\n",
        "def player_choice():\n",
        "  choice = input(\"Choose what action you want to do:\")\n",
        "  return choice\n",
        "player_choice() # Call function\n",
        "\n",
        "# ACTION 1 : EXPLORE SPACE\n",
        "# Define Function :\n",
        "def explore_space():\n",
        "  space = input(\"Which item do you want to examine?\")\n",
        "  return\n",
        "\n",
        "# ACTION 2 : EXAMINE ITEM\n",
        "# Define Function :\n",
        "def examine_item():\n",
        "  item = input(\"Which item do you want to examine? \")\n",
        "  return item\n",
        "\n",
        "# SABINA CLARIFICATION: What's happening with the examine_item? Will you be adding more things in this function?\n",
        "\n",
        "\n",
        "# Use the return to compare\n",
        "if examine_item() in actions[examine]:\n",
        "  print(\"Player examines the :\", examine_item())\n",
        "\n",
        "# ACTION 3 : UNLOCK DOOR\n",
        "# Define Function :\n",
        "def unlock_door():\n",
        "  if 'door A' in 'key door A':\n",
        "    door='door A'\n",
        "  return door\n",
        "\n",
        "# ACTION 4 : ENTER SPACE\n",
        "# Define Function :\n",
        "def enter_space():\n",
        "  return current_space"
      ]
    },
    {
      "cell_type": "markdown",
      "metadata": {
        "id": "hV0jEIloie6N"
      },
      "source": [
        "#### ACTION 2 : EXAMINE ITEM\n",
        "```\n",
        "\n",
        "  # Define Function : def examine_item(space):\n",
        "  def examine_item(space):\n",
        "    \n",
        "    item = input(\"Type the item you want to examine : \")\n",
        "  return item\n",
        "\n",
        "  # Call Function : examine_item()\n",
        "  examine_item()\n",
        "\n",
        "# Call Function : examine_item(current_item)\n",
        "  examine_item()\n",
        "  \n",
        "---------------------------------------------------------------\n",
        "#### Use the return to compare\n",
        "#### if examine_item() in actions[examine]:\n",
        "#### print(\"Player examines the :\", examine_item())\n",
        "```"
      ]
    },
    {
      "cell_type": "code",
      "execution_count": null,
      "metadata": {
        "id": "0YHxqDwbnBUv"
      },
      "outputs": [],
      "source": [
        "# ACTION 2 : EXAMINE ITEM\n",
        "getattr(:)\n"
      ]
    },
    {
      "cell_type": "markdown",
      "metadata": {
        "id": "O9pz8-XEaBOd"
      },
      "source": [
        "## HOW TO DO"
      ]
    },
    {
      "cell_type": "code",
      "execution_count": null,
      "metadata": {
        "colab": {
          "base_uri": "https://localhost:8080/"
        },
        "id": "i6kVhqhGccvu",
        "outputId": "12a554e1-6f15-4829-a1e7-f981ea7d4346"
      },
      "outputs": [],
      "source": [
        "# HOW TO : Access keys of the dictionary using .keys()\n",
        "game_keys = game_areas.keys()\n",
        "print(game_keys)"
      ]
    },
    {
      "cell_type": "code",
      "execution_count": null,
      "metadata": {
        "colab": {
          "base_uri": "https://localhost:8080/"
        },
        "id": "WZgJIzpFwoeK",
        "outputId": "3c8f30f1-cac6-4afe-c219-51b436b8c8cd"
      },
      "outputs": [],
      "source": [
        "# HOW TO : count (Number of elements) in a (List)\n",
        "# Example\n",
        "my_list = [\"apple\", \"banana\", \"cherry\"]\n",
        "\n",
        "# Using len() to get the number of elements\n",
        "number_of_elements = len(my_list)\n",
        "\n",
        "# Now, number_of_elements holds the number of elements in the list\n",
        "print(\"The number of elements in the list is:\", number_of_elements)\n",
        "# SABINA COMMENT: no_of_elements is a bit shorter and still understandable"
      ]
    },
    {
      "cell_type": "code",
      "execution_count": null,
      "metadata": {
        "colab": {
          "base_uri": "https://localhost:8080/"
        },
        "id": "70aWN53AL55-",
        "outputId": "c0f96b9c-fd1b-4b83-ad33-8e5e32bb29e3"
      },
      "outputs": [],
      "source": [
        "# HOW TO : access an (element) of a (list)\n",
        "print(\"\\nAccessing an element in a List of Actions:\")\n",
        "number_actions = len(actions)\n",
        "for i in range(number_actions):\n",
        "  print(\"-\", actions[i])\n",
        "\n",
        "# Automated Access"
      ]
    },
    {
      "cell_type": "code",
      "execution_count": null,
      "metadata": {
        "colab": {
          "base_uri": "https://localhost:8080/"
        },
        "id": "lxzQsOzEiVT6",
        "outputId": "3ac5d41c-c76b-4f82-8892-6cd4bb077918"
      },
      "outputs": [],
      "source": [
        "# HOW TO : access a (value) in a (dictionary)\n",
        "print(\"\\nAccessing a value in a Dictionary value:\")\n",
        "print(game_areas[\"Living Room\"])\n",
        "\n",
        "\n",
        "# HOW TO : access an (element) of a list (value) in a (dictonary)\n",
        "# Example How to access 'piano' in this dictionary\n",
        "print(\"\\nAccessing an element of a list value in a dictionary:\")\n",
        "print(game_areas[\"Living Room\"][2])"
      ]
    },
    {
      "cell_type": "code",
      "execution_count": null,
      "metadata": {
        "id": "LmWn4pvtpWPu"
      },
      "outputs": [],
      "source": [
        "# HOW TO : define a Function :\n",
        "def examine_item():\n",
        "  a=int(input(\"Enter number a: \"))\n",
        "  b=int(input(\"Enter number b: \"))\n",
        "  return a+b"
      ]
    },
    {
      "cell_type": "code",
      "execution_count": null,
      "metadata": {
        "colab": {
          "base_uri": "https://localhost:8080/"
        },
        "id": "N1dbpllqkOFb",
        "outputId": "f55d1e1c-2e20-405f-f131-45906f8786d2"
      },
      "outputs": [],
      "source": [
        "# HOW TO : How to define a Function - METHOD 1\n",
        "# Define Function : sums numbers does not take immediate input:\n",
        "def sum_numbers():\n",
        "  a=int(input(\"Enter number a: \"))\n",
        "  b=int(input(\"Enter number b: \"))\n",
        "  return a+b\n",
        "\n",
        "# Call Function : sum_numbers()\n",
        "sum_numbers()"
      ]
    },
    {
      "cell_type": "code",
      "execution_count": null,
      "metadata": {
        "colab": {
          "base_uri": "https://localhost:8080/"
        },
        "id": "8YfPImWVn0NO",
        "outputId": "d2b42312-321b-45bb-da43-fc30f223206f"
      },
      "outputs": [],
      "source": [
        "# HOW TO : How to define a Function - METHOD 2\n",
        "# Define Function : sums numbers does not take immediate input :\n",
        "def sum_numbers(a,b):\n",
        "  return a+b\n",
        "\n",
        "# Manual input for a Function variables\n",
        "a=int(input(\"Enter number a: \"))\n",
        "b=int(input(\"Enter number b: \"))\n",
        "\n",
        "# Call Function : sum_numbers(a,b)\n",
        "sum_numbers(a,b) # using a,b variables from the input outside of function definition"
      ]
    },
    {
      "cell_type": "markdown",
      "metadata": {
        "id": "fbr1D6bxhNBl"
      },
      "source": [
        "## CODE"
      ]
    },
    {
      "cell_type": "code",
      "execution_count": null,
      "metadata": {
        "colab": {
          "base_uri": "https://localhost:8080/",
          "height": 371
        },
        "id": "9rw4cYYRhDqQ",
        "outputId": "4b87e397-ae05-4449-9946-f73236bdf483"
      },
      "outputs": [],
      "source": [
        "# CODE : Automate access of an (element) of a (value) in a (dictonary)\n",
        "search = input(\"Enter what element you're searching : \")\n",
        "for i in spaces:\n",
        "  for y in len(spaces):\n",
        "    print(game_areas.space[i][y])\n",
        "# SABINA QUESTION : We are curious to how to automate access to an element of a value that is a list in a dictionary\n",
        "# for i in range(len(list)): -> this iterates over the same number as the elements in a list"
      ]
    },
    {
      "cell_type": "code",
      "execution_count": null,
      "metadata": {
        "id": "90nG7r_ykjLy"
      },
      "outputs": [],
      "source": [
        "# CODE :\n",
        "# Update current space\n",
        "current_space = game_areas.keys()\n",
        "\n",
        "# Note: You might want to iterate through the keys or access a specific key depending on your game logic.\n",
        "# For example, to access the first key:\n",
        "# first_room = list(current_space)[0]\n",
        "# print(f\"The first room is: {first_room}\")"
      ]
    },
    {
      "cell_type": "code",
      "execution_count": null,
      "metadata": {
        "colab": {
          "base_uri": "https://localhost:8080/"
        },
        "id": "L4d9dbiDXpNW",
        "outputId": "1ba2bce1-ca4d-459b-b8b5-bd5e23e4f427"
      },
      "outputs": [],
      "source": [
        "# CODE :\n",
        "# Current space is a value\n",
        "# It will get updated\n",
        "# 1st Space\n",
        "current_space = \"Game Room\"\n",
        "print(\"1st space is :\", current_space)\n",
        "\n",
        "# 2nd Space\n",
        "current_space = \"Bedroom 1\"\n",
        "print(\"2nd space is :\", current_space)\n",
        "\n",
        "# 3rd Space\n",
        "current_space = \"Bedroom 2\"\n",
        "print(\"3rd space is :\", current_space)\n"
      ]
    },
    {
      "cell_type": "code",
      "execution_count": null,
      "metadata": {
        "colab": {
          "base_uri": "https://localhost:8080/"
        },
        "id": "nqAbAXK4YT71",
        "outputId": "0839b25f-0309-4ff8-d7ef-36c0fd8fd837"
      },
      "outputs": [],
      "source": [
        "# CODE :\n",
        "# List : current_space\n",
        "current_space = [\"Game Room\"]\n",
        "# 1st Space\n",
        "print(\"1st space is :\", current_space[0])\n",
        "\n",
        "space_path = [\"Game Room\", \"Bedroom 1\", \"Bedroom 2\", \"Bedroom 1\", \"Living Room\", \"Outside\"]"
      ]
    },
    {
      "cell_type": "code",
      "execution_count": null,
      "metadata": {
        "colab": {
          "base_uri": "https://localhost:8080/"
        },
        "id": "FH4LJXOqQcGz",
        "outputId": "baa6e2a8-aa5b-4243-9fd5-647538f3170c"
      },
      "outputs": [],
      "source": [
        "# CODE :\n",
        "# Mapping the best shortest player's space path\n",
        "space_path = [\"Game Room\", \"Bedroom 1\", \"Bedroom 2\", \"Bedroom 1\", \"Living Room\", \"Outside\"]\n",
        "\n",
        "# Print shortest space path map\n",
        "print(space_path)"
      ]
    },
    {
      "cell_type": "code",
      "execution_count": null,
      "metadata": {
        "colab": {
          "base_uri": "https://localhost:8080/"
        },
        "id": "XOzSvbxVPxsU",
        "outputId": "e9a5f03b-27ff-4037-d88e-a4dfa7c3f97a"
      },
      "outputs": [],
      "source": [
        "# CODE :\n",
        "# List : paths\n",
        "space_paths = [\"Game Room\"]\n",
        "\n",
        "# Print List space_paths\n",
        "print(space_paths)"
      ]
    },
    {
      "cell_type": "code",
      "execution_count": null,
      "metadata": {
        "id": "f-y485WQWfMo"
      },
      "outputs": [],
      "source": [
        "# CODE :\n",
        "# Updating List space_paths by adding current_space\n",
        "space_paths.add(current_space)"
      ]
    },
    {
      "cell_type": "code",
      "execution_count": null,
      "metadata": {
        "colab": {
          "base_uri": "https://localhost:8080/"
        },
        "id": "Y7ioFvmQPpZs",
        "outputId": "d9462ac4-fc2f-4d04-ae05-6de92e8d09e6"
      },
      "outputs": [],
      "source": [
        "# CODE :\n",
        "#Print values of each list seperately\n",
        "for i in spaces:\n",
        "  print(game_areas[i])"
      ]
    },
    {
      "cell_type": "code",
      "execution_count": null,
      "metadata": {
        "colab": {
          "base_uri": "https://localhost:8080/"
        },
        "id": "cq5YcBO4K1-w",
        "outputId": "5e2c3fbf-9671-4b5a-f9e6-a28965c3e842"
      },
      "outputs": [],
      "source": [
        "# CODE :\n",
        "# List: Furniture list for all the items to be examined in order to find the keys\n",
        "examine = ['couch', 'piano', 'queen bed', 'double bed', 'dresser', 'dining table']\n",
        "print(\"Furnitures to examine:\",examine)\n",
        "\n",
        "# Compare examine with current space to update the inventory"
      ]
    },
    {
      "cell_type": "code",
      "execution_count": null,
      "metadata": {
        "colab": {
          "base_uri": "https://localhost:8080/"
        },
        "id": "hYC9IlyZODnF",
        "outputId": "ad16f921-e68c-446b-93c7-2c06b8a07fcb"
      },
      "outputs": [],
      "source": [
        "# CODE :\n",
        "# Compare the elements in the current space with examine furniture\n",
        "\n",
        "if game_areas[\"Living Room\"][0] in examine:\n",
        "    print(\"found\")\n",
        "else:\n",
        "    print(\"not found\")"
      ]
    },
    {
      "cell_type": "code",
      "execution_count": null,
      "metadata": {
        "id": "tL9p9-y9i_Nj"
      },
      "outputs": [],
      "source": [
        "# CODE :\n",
        "# Update Current Space METHOD compare with furniture in the space\n",
        "for i in spaces:\n",
        "  if game_areas[\"Bedroom 1\"][0] in examine:\n",
        "    print(\"found\")\n",
        "  else:\n",
        "    print(\"not found\")\n",
        "# Use BREAK to leave loop when found\n",
        "\n",
        "# Update current space METHOD compare with doors in the space"
      ]
    },
    {
      "cell_type": "code",
      "execution_count": null,
      "metadata": {
        "colab": {
          "base_uri": "https://localhost:8080/"
        },
        "id": "PBfp9C9zV_YW",
        "outputId": "95af4563-6262-43ed-c08b-64dc87106806"
      },
      "outputs": [],
      "source": [
        "# CODE :\n",
        "# Manual Access an action (element) of a list\n",
        "print(\"\\nAccessing an element in List of ACTIONS :\",actions[1])"
      ]
    },
    {
      "cell_type": "code",
      "execution_count": null,
      "metadata": {
        "colab": {
          "base_uri": "https://localhost:8080/"
        },
        "id": "5oX0XZ3KKqe4",
        "outputId": "445e0cab-5e37-40bb-9b38-44caa75c51d4"
      },
      "outputs": [],
      "source": [
        "# CODE :\n",
        "# List: Inventory of the aquired keys to unlock the doors\n",
        "Inventory = []\n",
        "print(\"Inventory :\", Inventory)\n",
        "\n",
        "# Update Inventory example (still in game room and found key door A)\n",
        "Inventory = [\"key door A\"]\n",
        "print(\"Inventory :\", Inventory)"
      ]
    },
    {
      "cell_type": "code",
      "execution_count": null,
      "metadata": {
        "colab": {
          "base_uri": "https://localhost:8080/"
        },
        "id": "IJEcIhvoMdcG",
        "outputId": "5ad175c6-4b4c-4a0d-ebf9-ef77510286f7"
      },
      "outputs": [],
      "source": [
        "# CODE :\n",
        "# List: Furniture list found in current space\n",
        "furniture_found = []\n",
        "print(\"Furniture found :\", furniture_found)\n",
        "\n",
        "# Example List: Furniture list found in start space\n",
        "furniture_found = ['couch']\n",
        "print(\"Furniture found :\", furniture_found)"
      ]
    },
    {
      "cell_type": "markdown",
      "metadata": {
        "id": "mUY72_DgcWh2"
      },
      "source": [
        "SABINA COMMENT: I see you don't have the code from the loop here. I would say to add that in so you can test the changes you do to the functions every time you make a change. At the moment it looks like you're focusing on all the different elements but don't have the full picture.\n",
        "\n",
        "**So please try to make a working loop (either the one in the sample_code or one that you create with your own actions) as your next step before you work on any more details! The MVP (Minimum Viable Product) needs to come first!**"
      ]
    },
    {
      "cell_type": "markdown",
      "metadata": {},
      "source": [
        "# GAME CODE"
      ]
    },
    {
      "cell_type": "code",
      "execution_count": null,
      "metadata": {},
      "outputs": [],
      "source": [
        "# Start the game by printing storyline message and initial game state\n",
        " \n",
        "print('''\n",
        "    You wake up on a couch and find yourself in a strange house with no windows which you have never been to before.\n",
        "    You don't remember why you are here and what had happened before. \n",
        "    You feel some unknown danger is approaching and you must get out of the house, NOW!\n",
        "          ''')\n",
        "current_space = 'game room'\n",
        "# call function player_action(player_input='play')\n",
        "player_action('play') \n",
        "# call explore(current_space) current_space stored in game_state dictionary\n",
        "getattr(utils, \"explore\")(game_state[\"current_space\"]) \n"
      ]
    },
    {
      "cell_type": "code",
      "execution_count": null,
      "metadata": {},
      "outputs": [],
      "source": [
        "# define function INIT_GAME_STATE()\n",
        "def INIT_GAME_STATE():\n",
        "    \"\"\"\n",
        "    Initialize the game state\n",
        "    \"\"\"\n",
        "    return {\n",
        "        \"current_space\": \"Game Room\",\n",
        "        \"inventory\": [],\n",
        "    }"
      ]
    },
    {
      "cell_type": "code",
      "execution_count": null,
      "metadata": {},
      "outputs": [],
      "source": [
        "# Initialize game state in Game Room\n",
        "game_state = INIT_GAME_STATE()\n",
        "# call function start_game()\n",
        "start_game()"
      ]
    },
    {
      "cell_type": "code",
      "execution_count": null,
      "metadata": {},
      "outputs": [],
      "source": [
        "# define function start_game()\n",
        "def start_game():\n",
        "    \"\"\"\n",
        "    Start the game\n",
        "    \"\"\"\n",
        "    print(\"You wake up on a couch and find yourself in a strange house with no windows which you have never been to before. You don't remember why you are here and what had happened before. You feel some unknown danger is approaching and you must get out of the house, NOW!\")\n",
        "    play_room(game_state[\"current_space\"])"
      ]
    },
    {
      "cell_type": "code",
      "execution_count": null,
      "metadata": {},
      "outputs": [],
      "source": [
        "# define function linebreak()\n",
        "def linebreak():\n",
        "    \"\"\"\n",
        "    Print a line break\n",
        "    \"\"\"\n",
        "    print(\"\\n\\n\")"
      ]
    },
    {
      "cell_type": "code",
      "execution_count": null,
      "metadata": {},
      "outputs": [],
      "source": []
    },
    {
      "cell_type": "markdown",
      "metadata": {},
      "source": [
        "## REYNOLD WORK"
      ]
    },
    {
      "cell_type": "code",
      "execution_count": null,
      "metadata": {},
      "outputs": [],
      "source": [
        "# Keep track of the player : current space; current item to examine; and inventory of keys\n",
        "\n",
        "# Dictionary : GAME STATE\n",
        "game_state = {\n",
        "    'time': [\"display_clock_countdown\"] , #library time for live timer and countdown\n",
        "    'space path' : [], # player current space to navigate and make a space path\n",
        "    'item path' : [], # to select an item to examine for key; and make an item path\n",
        "    'inventory': [], # to store found keys\n",
        "\n",
        "}\n"
      ]
    },
    {
      "cell_type": "code",
      "execution_count": null,
      "metadata": {},
      "outputs": [],
      "source": [
        "# Add a new key 'score' with an initial value, for example 0\n",
        "game_state['score'] = 0\n",
        "\n",
        "# Add another key 'player_health' with a value of 100, for example\n",
        "game_state['player_health'] = 100\n",
        "\n",
        "# Check the updated dictionary\n",
        "print(game_state)"
      ]
    },
    {
      "cell_type": "code",
      "execution_count": null,
      "metadata": {},
      "outputs": [],
      "source": [
        "import time\n",
        "\n",
        "# Initialize game state with player health\n",
        "game_state = {\n",
        "    'time': [\"display_clock_countdown\"],\n",
        "    'space path': [],\n",
        "    'item path': [],\n",
        "    'inventory': [],\n",
        "    'player_health': 100.0,  # Using float for percentage calculations\n",
        "    'start_time': None,\n",
        "    'next_deduction_time': 300  # Deduction starts after 5 minutes\n",
        "}\n",
        "\n",
        "def start_game():\n",
        "    \"\"\"Start the game's timer.\"\"\"\n",
        "    game_state['start_time'] = time.time()\n",
        "    print(\"Game started! Timer is running.\")\n",
        "\n",
        "def update_player_health():\n",
        "    \"\"\"Update player health based on elapsed time.\"\"\"\n",
        "    if game_state['start_time'] is not None:\n",
        "        elapsed_time = time.time() - game_state['start_time']\n",
        "\n",
        "        # Perform deduction only if elapsed time is beyond next scheduled deduction time\n",
        "        if elapsed_time >= game_state['next_deduction_time']:\n",
        "            # Reduce health by 15%\n",
        "            game_state['player_health'] *= 0.85\n",
        "            print(f\"Health decreased by 15%! New health: {game_state['player_health']:.2f}\")\n",
        "\n",
        "            # Update the next deduction time for 2 minutes later\n",
        "            game_state['next_deduction_time'] += 120\n",
        "\n",
        "def game_loop():\n",
        "    \"\"\"Main game loop.\"\"\"\n",
        "    start_game()\n",
        "    while game_state['player_health'] > 0:\n",
        "        current_time = time.time()\n",
        "        # Calculate the time left until the next deduction\n",
        "        time_until_next_deduction = game_state['next_deduction_time'] - (current_time - game_state['start_time'])\n",
        "\n",
        "        # Determine sleep time, making sure not to go negative\n",
        "        sleep_time = max(0, time_until_next_deduction)\n",
        "\n",
        "        # Sleep until the next deduction is expected\n",
        "        if sleep_time > 0:\n",
        "            time.sleep(sleep_time)\n",
        "\n",
        "        # Update player health based on time\n",
        "        update_player_health()\n",
        "\n",
        "        # Provide feedback on current status\n",
        "        print(f\"Current player health: {game_state['player_health']:.2f}\")\n",
        "        if game_state['player_health'] <= 0:\n",
        "            print(\"Game Over!\")\n",
        "\n",
        "# Start the game loop\n",
        "if __name__ == \"__main__\":\n",
        "    game_loop()"
      ]
    },
    {
      "cell_type": "markdown",
      "metadata": {},
      "source": [
        "## PAULINA: The Take a break"
      ]
    },
    {
      "cell_type": "markdown",
      "metadata": {},
      "source": [
        "DEFINIG THE FUNCTION take_a_break()\n",
        "\n",
        "**Step 1: The idea**\n",
        "\n",
        "- When the player starts the game, we note the start time.\n",
        "- Every second, we check how long the player has been playing.\n",
        "- If it’s less than 40 minutes, keep playing.\n",
        "- If it’s 40 minutes or more, stop the game and show this message:\n",
        "\n",
        "TAKE A BREAK FOR MENTAL HEALTH: Breathe in, breathe out. Take some food, drink a cup of water & rest. Come back later.\n",
        "\n",
        "- Then we wait 30 minutes before letting them play again"
      ]
    },
    {
      "cell_type": "markdown",
      "metadata": {},
      "source": [
        "**Step 2: define what variables we need**"
      ]
    },
    {
      "cell_type": "code",
      "execution_count": null,
      "metadata": {},
      "outputs": [],
      "source": [
        "from datetime import datetime, timedelta # timedelta means difference between two times\n",
        "\n",
        "start_time = datetime.now()       # when the session started\n",
        "break_until = None                # time when the break ends\n"
      ]
    },
    {
      "cell_type": "markdown",
      "metadata": {},
      "source": [
        "**Step 3: The function**"
      ]
    },
    {
      "cell_type": "code",
      "execution_count": null,
      "metadata": {},
      "outputs": [],
      "source": [
        "from datetime import datetime, timedelta # timedelta means difference between two times\n",
        "import time\n",
        "\n",
        "def take_a_break():\n",
        "    global start_time, break_until\n",
        "\n",
        "    now = datetime.now()\n",
        "\n",
        "    # 1. If we are already in a break\n",
        "    if break_until is not None:\n",
        "        if now < break_until:\n",
        "            remaining = break_until - now\n",
        "            mins = int(remaining.total_seconds() // 60)\n",
        "            secs = int(remaining.total_seconds() % 60)\n",
        "            print(f\"\\n Still on break! Please wait {mins:02}:{secs:02} minutes.\")\n",
        "            return False\n",
        "        else:\n",
        "            # Break finished, reset timer\n",
        "            print(\"\\n Break finished! You can play again.\\n\")\n",
        "            start_time = datetime.now()\n",
        "            break_until = None\n",
        "            return True\n",
        "\n",
        "    # 2. If no break is active, check play time\n",
        "    minutes_played = now - start_time\n",
        "    if minutes_played >= timedelta(minutes=40):\n",
        "        # Start break\n",
        "        break_until = now + timedelta(minutes=30)\n",
        "        print(\"\"\"\n",
        "========================================================\n",
        "TAKE A BREAK FOR MENTAL HEALTH:\n",
        "Breathe in, breathe out. Take some food, drink a cup of water & rest.\n",
        "Come back later.\n",
        "========================================================\n",
        "\"\"\")\n",
        "        return False\n",
        "    else:\n",
        "        return True\n",
        "\n",
        "\n"
      ]
    },
    {
      "cell_type": "code",
      "execution_count": null,
      "metadata": {},
      "outputs": [],
      "source": [
        "from datetime import datetime, timedelta # timedelta means difference between two times\n",
        "import time\n",
        "\n",
        "# === GLOBAL VARIABLES ===\n",
        "start_time = datetime.now()\n",
        "break_until = None\n",
        "\n",
        "def take_a_break():\n",
        "    \"\"\"Check if it's time for a break or if the player can keep playing.\"\"\"\n",
        "    global start_time, break_until\n",
        "\n",
        "    now = datetime.now()\n",
        "\n",
        "    # 1) If we are already in a break\n",
        "    if break_until is not None:\n",
        "        if now < break_until:\n",
        "            remaining = break_until - now\n",
        "            mins = int(remaining.total_seconds() // 60)\n",
        "            secs = int(remaining.total_seconds() % 60)\n",
        "            print(f\"\\nStill on break! Please wait {mins:02}:{secs:02} minutes.\")\n",
        "            return False\n",
        "        else:\n",
        "            # Break finished\n",
        "            print(\"\\nBreak finished! You can play again.\\n\")\n",
        "            start_time = datetime.now()\n",
        "            break_until = None\n",
        "            return True\n",
        "\n",
        "    # 2) If no break is active, check play time\n",
        "    time_played = now - start_time\n",
        "\n",
        "    # Change 'minutes' to 'seconds' for quick testing\n",
        "    if time_played >= timedelta(minutes=40):\n",
        "        break_until = now + timedelta(minutes=20)\n",
        "        print(\"\"\"\n",
        "========================================================\n",
        "TAKE A BREAK FOR MENTAL HEALTH:\n",
        "Breathe in, breathe out. Take some food, drink a cup of water & rest.\n",
        "Come back later.\n",
        "========================================================\n",
        "\"\"\")\n",
        "        return False\n",
        "    else:\n",
        "        return True\n",
        "\n",
        "\n",
        "# Hier ist a demo loop to show how take_a_break() works\n",
        "if __name__ == \"__main__\":\n",
        "    print(\"Demo started. Press Ctrl + C to stop.\\n\")\n",
        "\n",
        "    try:\n",
        "        while True:\n",
        "            allowed = take_a_break()\n",
        "            if allowed:\n",
        "                print(\"Playing...\")\n",
        "            time.sleep(1)  # one tick per second\n",
        "    except KeyboardInterrupt:\n",
        "        print(\"\\nStopped by user. Exiting cleanly.\\n\")\n"
      ]
    },
    {
      "cell_type": "code",
      "execution_count": null,
      "metadata": {},
      "outputs": [],
      "source": []
    }
  ],
  "metadata": {
    "colab": {
      "include_colab_link": true,
      "provenance": []
    },
    "kernelspec": {
      "display_name": "base",
      "language": "python",
      "name": "python3"
    },
    "language_info": {
      "codemirror_mode": {
        "name": "ipython",
        "version": 3
      },
      "file_extension": ".py",
      "mimetype": "text/x-python",
      "name": "python",
      "nbconvert_exporter": "python",
      "pygments_lexer": "ipython3",
      "version": "3.13.5"
    }
  },
  "nbformat": 4,
  "nbformat_minor": 0
}
